{
 "cells": [
  {
   "cell_type": "markdown",
   "id": "57c64d79",
   "metadata": {},
   "source": [
    "# Wikimedia Research - Translation Imbalances: Testing hypothesis #2"
   ]
  },
  {
   "cell_type": "markdown",
   "id": "a5a9739a",
   "metadata": {},
   "source": [
    "# Tests"
   ]
  },
  {
   "cell_type": "markdown",
   "id": "46d8687e",
   "metadata": {},
   "source": [
    "#### Initial test with dumps"
   ]
  },
  {
   "cell_type": "code",
   "execution_count": 2,
   "id": "a4bc669c",
   "metadata": {},
   "outputs": [],
   "source": [
    "# import libraries here\n",
    "import gzip  # necessary for decompressing dump file into text format\n",
    "import pandas as pd\n",
    "import numpy as np"
   ]
  },
  {
   "cell_type": "code",
   "execution_count": 18,
   "id": "e8ab37b2",
   "metadata": {},
   "outputs": [],
   "source": [
    "# Every language on Wikipedia has its own page restrictions table\n",
    "# you can find all the dbnames (e.g., enwiki) here: https://www.mediawiki.org/w/api.php?action=sitematrix\n",
    "# for example, you could replace the LANGUAGE parameter of 'enwiki' with 'arwiki' to study Arabic Wikipedia\n",
    "LANGUAGE = 'eswiki'\n",
    "MONTH = '2023-03'\n",
    "# e.g., enwiki -> en.wikipedia (this is necessary for the API section)\n",
    "SITENAME = LANGUAGE.replace('wiki', '.wikipedia')\n",
    "# directory on PAWS server that holds Wikimedia dumps\n",
    "# DUMP_DIR = f\"/public/dumps/public/other/clickstream/{MONTH}/\"\n",
    "DUMP_DIR = f\"data/\"\n",
    "CLICKSTREAM_FN = f'clickstream-{LANGUAGE}-{MONTH}.tsv.gz'"
   ]
  },
  {
   "cell_type": "code",
   "execution_count": 19,
   "id": "863d623f",
   "metadata": {},
   "outputs": [],
   "source": [
    "# English dataset\n",
    "df_es = pd.read_csv(DUMP_DIR + CLICKSTREAM_FN,  sep = '\\t', names = ['source', 'destination', 'type', 'n'], \n",
    "                    dtype ={'type': 'category', 'n': 'uint32'}, usecols=['source', 'destination', 'n'], nrows = 4000000)"
   ]
  },
  {
   "cell_type": "code",
   "execution_count": 15,
   "id": "fc52d55a",
   "metadata": {},
   "outputs": [
    {
     "data": {
      "text/html": [
       "<div>\n",
       "<style scoped>\n",
       "    .dataframe tbody tr th:only-of-type {\n",
       "        vertical-align: middle;\n",
       "    }\n",
       "\n",
       "    .dataframe tbody tr th {\n",
       "        vertical-align: top;\n",
       "    }\n",
       "\n",
       "    .dataframe thead th {\n",
       "        text-align: right;\n",
       "    }\n",
       "</style>\n",
       "<table border=\"1\" class=\"dataframe\">\n",
       "  <thead>\n",
       "    <tr style=\"text-align: right;\">\n",
       "      <th></th>\n",
       "      <th>source</th>\n",
       "      <th>destination</th>\n",
       "      <th>n</th>\n",
       "    </tr>\n",
       "  </thead>\n",
       "  <tbody>\n",
       "    <tr>\n",
       "      <th>0</th>\n",
       "      <td>Paula</td>\n",
       "      <td>Santa_Paula</td>\n",
       "      <td>17</td>\n",
       "    </tr>\n",
       "    <tr>\n",
       "      <th>1</th>\n",
       "      <td>other-search</td>\n",
       "      <td>Emirato_de_Trarza</td>\n",
       "      <td>17</td>\n",
       "    </tr>\n",
       "    <tr>\n",
       "      <th>2</th>\n",
       "      <td>Acteón</td>\n",
       "      <td>Palacio_Real_de_Caserta</td>\n",
       "      <td>11</td>\n",
       "    </tr>\n",
       "    <tr>\n",
       "      <th>3</th>\n",
       "      <td>other-search</td>\n",
       "      <td>Sam_Bass</td>\n",
       "      <td>88</td>\n",
       "    </tr>\n",
       "    <tr>\n",
       "      <th>4</th>\n",
       "      <td>Luigi_Vanvitelli</td>\n",
       "      <td>Palacio_Real_de_Caserta</td>\n",
       "      <td>16</td>\n",
       "    </tr>\n",
       "  </tbody>\n",
       "</table>\n",
       "</div>"
      ],
      "text/plain": [
       "             source              destination   n\n",
       "0             Paula              Santa_Paula  17\n",
       "1      other-search        Emirato_de_Trarza  17\n",
       "2            Acteón  Palacio_Real_de_Caserta  11\n",
       "3      other-search                 Sam_Bass  88\n",
       "4  Luigi_Vanvitelli  Palacio_Real_de_Caserta  16"
      ]
     },
     "execution_count": 15,
     "metadata": {},
     "output_type": "execute_result"
    }
   ],
   "source": [
    "df_es.head()"
   ]
  },
  {
   "cell_type": "markdown",
   "id": "3cbbc378",
   "metadata": {},
   "source": [
    "#### Dutch Wikimedia - page articles multistream data"
   ]
  },
  {
   "cell_type": "code",
   "execution_count": 20,
   "id": "66533e0c",
   "metadata": {},
   "outputs": [],
   "source": [
    "DUMP_DIR = f\"data/\"\n",
    "FILENAME = 'nlwiki-20230601-pages-articles-multistream-index5.txt-p2069271p3569270'\n",
    "CLICKSTREAM_FN = f'{FILENAME}.bz2'"
   ]
  },
  {
   "cell_type": "code",
   "execution_count": 27,
   "id": "71bb957d",
   "metadata": {},
   "outputs": [],
   "source": [
    "# Dutch dataset\n",
    "df_nl = pd.read_csv(DUMP_DIR + CLICKSTREAM_FN,  sep = '\\t', nrows = 40000000)"
   ]
  },
  {
   "cell_type": "code",
   "execution_count": 24,
   "id": "865e126c",
   "metadata": {},
   "outputs": [
    {
     "data": {
      "text/html": [
       "<div>\n",
       "<style scoped>\n",
       "    .dataframe tbody tr th:only-of-type {\n",
       "        vertical-align: middle;\n",
       "    }\n",
       "\n",
       "    .dataframe tbody tr th {\n",
       "        vertical-align: top;\n",
       "    }\n",
       "\n",
       "    .dataframe thead th {\n",
       "        text-align: right;\n",
       "    }\n",
       "</style>\n",
       "<table border=\"1\" class=\"dataframe\">\n",
       "  <thead>\n",
       "    <tr style=\"text-align: right;\">\n",
       "      <th></th>\n",
       "      <th>606:2069272:Wereldkampioenschap handbal mannen 2011</th>\n",
       "    </tr>\n",
       "  </thead>\n",
       "  <tbody>\n",
       "    <tr>\n",
       "      <th>0</th>\n",
       "      <td>606:2069273:Jacob van Artois</td>\n",
       "    </tr>\n",
       "    <tr>\n",
       "      <th>1</th>\n",
       "      <td>606:2069276:Gonzales Coques</td>\n",
       "    </tr>\n",
       "    <tr>\n",
       "      <th>2</th>\n",
       "      <td>606:2069278:Zech von Burkensroda</td>\n",
       "    </tr>\n",
       "    <tr>\n",
       "      <th>3</th>\n",
       "      <td>606:2069280:Sulfoleen</td>\n",
       "    </tr>\n",
       "    <tr>\n",
       "      <th>4</th>\n",
       "      <td>606:2069281:Butadieensulfon</td>\n",
       "    </tr>\n",
       "  </tbody>\n",
       "</table>\n",
       "</div>"
      ],
      "text/plain": [
       "  606:2069272:Wereldkampioenschap handbal mannen 2011\n",
       "0                       606:2069273:Jacob van Artois \n",
       "1                        606:2069276:Gonzales Coques \n",
       "2                   606:2069278:Zech von Burkensroda \n",
       "3                              606:2069280:Sulfoleen \n",
       "4                        606:2069281:Butadieensulfon "
      ]
     },
     "execution_count": 24,
     "metadata": {},
     "output_type": "execute_result"
    }
   ],
   "source": [
    "df_nl.head()"
   ]
  },
  {
   "cell_type": "code",
   "execution_count": 14,
   "id": "c3eb26db",
   "metadata": {},
   "outputs": [],
   "source": [
    "DUMP_DIR = f\"data/\"\n",
    "FILENAME = 'zhwiki-20230601-pages-articles-multistream-index4.txt-p1389649p2889648'\n",
    "CLICKSTREAM_FN = f'{FILENAME}.bz2'"
   ]
  },
  {
   "cell_type": "code",
   "execution_count": 16,
   "id": "ce69d9f1",
   "metadata": {},
   "outputs": [],
   "source": [
    "df_zh = pd.read_csv(DUMP_DIR + CLICKSTREAM_FN, sep = '\\t', nrows = 40000000)"
   ]
  },
  {
   "cell_type": "code",
   "execution_count": 17,
   "id": "7151b709",
   "metadata": {},
   "outputs": [
    {
     "data": {
      "text/html": [
       "<div>\n",
       "<style scoped>\n",
       "    .dataframe tbody tr th:only-of-type {\n",
       "        vertical-align: middle;\n",
       "    }\n",
       "\n",
       "    .dataframe tbody tr th {\n",
       "        vertical-align: top;\n",
       "    }\n",
       "\n",
       "    .dataframe thead th {\n",
       "        text-align: right;\n",
       "    }\n",
       "</style>\n",
       "<table border=\"1\" class=\"dataframe\">\n",
       "  <thead>\n",
       "    <tr style=\"text-align: right;\">\n",
       "      <th></th>\n",
       "      <th>631:1389652:陸奧號戰艦</th>\n",
       "    </tr>\n",
       "  </thead>\n",
       "  <tbody>\n",
       "    <tr>\n",
       "      <th>0</th>\n",
       "      <td>631:1389657:先天性四肢切斷症</td>\n",
       "    </tr>\n",
       "    <tr>\n",
       "      <th>1</th>\n",
       "      <td>631:1389658:Category:以倫敦為背景的電影</td>\n",
       "    </tr>\n",
       "    <tr>\n",
       "      <th>2</th>\n",
       "      <td>631:1389659:尹桐阳</td>\n",
       "    </tr>\n",
       "    <tr>\n",
       "      <th>3</th>\n",
       "      <td>631:1389660:子癇</td>\n",
       "    </tr>\n",
       "    <tr>\n",
       "      <th>4</th>\n",
       "      <td>631:1389716:邓高镜</td>\n",
       "    </tr>\n",
       "  </tbody>\n",
       "</table>\n",
       "</div>"
      ],
      "text/plain": [
       "                631:1389652:陸奧號戰艦\n",
       "0            631:1389657:先天性四肢切斷症\n",
       "1  631:1389658:Category:以倫敦為背景的電影\n",
       "2                 631:1389659:尹桐阳\n",
       "3                  631:1389660:子癇\n",
       "4                 631:1389716:邓高镜"
      ]
     },
     "execution_count": 17,
     "metadata": {},
     "output_type": "execute_result"
    }
   ],
   "source": [
    "df_zh.head()"
   ]
  },
  {
   "cell_type": "markdown",
   "id": "2bd6e861",
   "metadata": {},
   "source": [
    "### Notebook example\n",
    "\n",
    "__NOTE__ : In order for this to work, we need to have access to a Tools account t access the file needed for the \"read_default_file\" property: https://wikitech.wikimedia.org/wiki/Help:Toolforge/Quickstart#Get_access"
   ]
  },
  {
   "cell_type": "code",
   "execution_count": null,
   "id": "2a72a6fe",
   "metadata": {
    "scrolled": true
   },
   "outputs": [],
   "source": [
    "import pymysql"
   ]
  },
  {
   "cell_type": "markdown",
   "id": "28ed8a2e",
   "metadata": {},
   "source": [
    "'conda install -c conda-forge pymysql'"
   ]
  },
  {
   "cell_type": "code",
   "execution_count": 9,
   "id": "3d23f779",
   "metadata": {},
   "outputs": [],
   "source": [
    "def make_connection(wiki, replica_type=\"analytics\"):\n",
    "    \"\"\"Connects to a host and database of the same name.\n",
    "    \n",
    "    `replica_type` can be either \"analytics\" (default), or \"web\".\"\"\"\n",
    "    assert replica_type == \"web\" or replica_type == \"analytics\"\n",
    "    return pymysql.connect(\n",
    "        host=f\"{wiki}.{replica_type}.db.svc.wikimedia.cloud\",\n",
    "        read_default_file=\".my.cnf\",\n",
    "        database=f\"{wiki}_p\",\n",
    "        charset='utf8'\n",
    "    )"
   ]
  },
  {
   "cell_type": "code",
   "execution_count": 10,
   "id": "53bb58b1",
   "metadata": {},
   "outputs": [],
   "source": [
    "def query(conn, query, args):\n",
    "    \"\"\"Execute a SQL query against the connection, and return **all** the results.\"\"\"\n",
    "    with conn.cursor() as cur:\n",
    "        cur.execute(query, args=args)\n",
    "        data = cur.fetchall()\n",
    "        return data"
   ]
  },
  {
   "cell_type": "code",
   "execution_count": null,
   "id": "beb4563b",
   "metadata": {},
   "outputs": [],
   "source": [
    "commons_conn = make_connection(\"commonswiki\")"
   ]
  },
  {
   "cell_type": "code",
   "execution_count": null,
   "id": "6b8345e7",
   "metadata": {},
   "outputs": [],
   "source": [
    "results = query(\n",
    "    commons_conn,\n",
    "    \"SELECT page_title FROM page WHERE page_title LIKE %s LIMIT 10\",\n",
    "    \"%Alicante%\"\n",
    ")\n",
    "\n",
    "for result in results:\n",
    "    print('*', str(result[0], encoding=\"utf-8\"))\n",
    "    \n",
    "commons_conn.close()"
   ]
  },
  {
   "cell_type": "markdown",
   "id": "2faa7aae",
   "metadata": {},
   "source": [
    "## Data collection"
   ]
  },
  {
   "cell_type": "markdown",
   "id": "a8b89f3b",
   "metadata": {},
   "source": [
    "__NOTE__: The MediaWiki API can be language specific. We can use it to contruct the relevant datasets of the users we need. The following will yield different results:\n",
    "- https://es.wikipedia.org/w/api.php?action=query&list=users&ususers=Adamw&usprop=editcount\n",
    "- https://de.wikipedia.org/w/api.php?action=query&list=users&ususers=Adamw&usprop=editcount\n",
    "- https://www.mediawiki.org/w/api.php?action=query&list=users&ususers=Adamw&usprop=editcount&format=json"
   ]
  },
  {
   "cell_type": "code",
   "execution_count": 12,
   "id": "427b479c",
   "metadata": {},
   "outputs": [
    {
     "name": "stdout",
     "output_type": "stream",
     "text": [
      "200\n",
      "{\"batchcomplete\":\"\",\"query\":{\"users\":[{\"userid\":398607,\"name\":\"Adamw\",\"editcount\":1506}]}}\n"
     ]
    },
    {
     "data": {
      "text/plain": [
       "{'batchcomplete': '',\n",
       " 'query': {'users': [{'userid': 398607, 'name': 'Adamw', 'editcount': 1506}]}}"
      ]
     },
     "execution_count": 12,
     "metadata": {},
     "output_type": "execute_result"
    }
   ],
   "source": [
    "import requests\n",
    "\n",
    "url = \"https://www.mediawiki.org/w/api.php?action=query&list=users&ususers=Adamw&usprop=editcount&format=json\"\n",
    "\n",
    "# Making a GET request\n",
    "response = requests.get(url)\n",
    "# See status code\n",
    "print(response.status_code)\n",
    "# See request text\n",
    "print(response.text)\n",
    "\n",
    "response.json()\n"
   ]
  },
  {
   "cell_type": "code",
   "execution_count": 7,
   "id": "e06073a1",
   "metadata": {},
   "outputs": [
    {
     "data": {
      "text/plain": [
       "'{\"pages\":[{\"id\":9228,\"key\":\"Earth\",\"title\":\"Earth\",\"excerpt\":\"<span class=\\\\\"searchmatch\\\\\">Earth</span> is the third planet from the Sun and the only place known in the universe where life has originated and found habitability. <span class=\\\\\"searchmatch\\\\\">Earth</span> is the only planet\",\"matched_title\":null,\"description\":\"Third planet from the Sun\",\"thumbnail\":{\"mimetype\":\"image/jpeg\",\"width\":60,\"height\":60,\"duration\":null,\"url\":\"//upload.wikimedia.org/wikipedia/commons/thumb/c/cb/The_Blue_Marble_%28remastered%29.jpg/60px-The_Blue_Marble_%28remastered%29.jpg\"}}]}'"
      ]
     },
     "execution_count": 7,
     "metadata": {},
     "output_type": "execute_result"
    }
   ],
   "source": [
    "\n",
    "import requests\n",
    "\n",
    "url = \"https://en.wikipedia.org/w/rest.php/v1/search/page?q=earth&limit=1\"\n",
    "\n",
    "# Making a GET request\n",
    "response = requests.get(url)\n",
    "# See URL\n",
    "response.url\n",
    "# See status code\n",
    "response.status_code\n",
    "# See request header\n",
    "response.text\n",
    "\n",
    "\n"
   ]
  },
  {
   "cell_type": "markdown",
   "id": "420c1ad7",
   "metadata": {},
   "source": [
    "## Data processing"
   ]
  },
  {
   "cell_type": "markdown",
   "id": "de5240e4",
   "metadata": {},
   "source": [
    "## Data analysis"
   ]
  },
  {
   "cell_type": "code",
   "execution_count": null,
   "id": "9c41a567",
   "metadata": {},
   "outputs": [],
   "source": []
  }
 ],
 "metadata": {
  "kernelspec": {
   "display_name": "Python 3 (ipykernel)",
   "language": "python",
   "name": "python3"
  },
  "language_info": {
   "codemirror_mode": {
    "name": "ipython",
    "version": 3
   },
   "file_extension": ".py",
   "mimetype": "text/x-python",
   "name": "python",
   "nbconvert_exporter": "python",
   "pygments_lexer": "ipython3",
   "version": "3.9.7"
  }
 },
 "nbformat": 4,
 "nbformat_minor": 5
}
