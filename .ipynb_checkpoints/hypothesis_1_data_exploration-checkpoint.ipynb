{
 "cells": [
  {
   "cell_type": "markdown",
   "id": "0c558189",
   "metadata": {},
   "source": [
    "# Wikimedia Research - Translation Imbalances: Testing hypothesis #1"
   ]
  },
  {
   "cell_type": "markdown",
   "id": "17661326",
   "metadata": {},
   "source": [
    "#### Initial test with dumps"
   ]
  },
  {
   "cell_type": "code",
   "execution_count": 10,
   "id": "59812edc",
   "metadata": {},
   "outputs": [],
   "source": [
    "# import libraries here\n",
    "import gzip  # necessary for decompressing dump file into text format\n",
    "import pandas as pd\n",
    "import numpy as np"
   ]
  },
  {
   "cell_type": "code",
   "execution_count": 18,
   "id": "8d38fdbc",
   "metadata": {},
   "outputs": [],
   "source": [
    "# Every language on Wikipedia has its own page restrictions table\n",
    "# you can find all the dbnames (e.g., enwiki) here: https://www.mediawiki.org/w/api.php?action=sitematrix\n",
    "# for example, you could replace the LANGUAGE parameter of 'enwiki' with 'arwiki' to study Arabic Wikipedia\n",
    "LANGUAGE = 'eswiki'\n",
    "MONTH = '2023-03'\n",
    "# e.g., enwiki -> en.wikipedia (this is necessary for the API section)\n",
    "SITENAME = LANGUAGE.replace('wiki', '.wikipedia')\n",
    "# directory on PAWS server that holds Wikimedia dumps\n",
    "# DUMP_DIR = f\"/public/dumps/public/other/clickstream/{MONTH}/\"\n",
    "DUMP_DIR = f\"data/\"\n",
    "CLICKSTREAM_FN = f'clickstream-{LANGUAGE}-{MONTH}.tsv.gz'"
   ]
  },
  {
   "cell_type": "code",
   "execution_count": 19,
   "id": "1dae738c",
   "metadata": {},
   "outputs": [],
   "source": [
    "# English dataset\n",
    "df_es = pd.read_csv(DUMP_DIR + CLICKSTREAM_FN,  sep = '\\t', names = ['source', 'destination', 'type', 'n'], \n",
    "                    dtype ={'type': 'category', 'n': 'uint32'}, usecols=['source', 'destination', 'n'], nrows = 4000000)"
   ]
  },
  {
   "cell_type": "code",
   "execution_count": 15,
   "id": "17fe43e2",
   "metadata": {},
   "outputs": [
    {
     "data": {
      "text/html": [
       "<div>\n",
       "<style scoped>\n",
       "    .dataframe tbody tr th:only-of-type {\n",
       "        vertical-align: middle;\n",
       "    }\n",
       "\n",
       "    .dataframe tbody tr th {\n",
       "        vertical-align: top;\n",
       "    }\n",
       "\n",
       "    .dataframe thead th {\n",
       "        text-align: right;\n",
       "    }\n",
       "</style>\n",
       "<table border=\"1\" class=\"dataframe\">\n",
       "  <thead>\n",
       "    <tr style=\"text-align: right;\">\n",
       "      <th></th>\n",
       "      <th>source</th>\n",
       "      <th>destination</th>\n",
       "      <th>n</th>\n",
       "    </tr>\n",
       "  </thead>\n",
       "  <tbody>\n",
       "    <tr>\n",
       "      <th>0</th>\n",
       "      <td>Paula</td>\n",
       "      <td>Santa_Paula</td>\n",
       "      <td>17</td>\n",
       "    </tr>\n",
       "    <tr>\n",
       "      <th>1</th>\n",
       "      <td>other-search</td>\n",
       "      <td>Emirato_de_Trarza</td>\n",
       "      <td>17</td>\n",
       "    </tr>\n",
       "    <tr>\n",
       "      <th>2</th>\n",
       "      <td>Acteón</td>\n",
       "      <td>Palacio_Real_de_Caserta</td>\n",
       "      <td>11</td>\n",
       "    </tr>\n",
       "    <tr>\n",
       "      <th>3</th>\n",
       "      <td>other-search</td>\n",
       "      <td>Sam_Bass</td>\n",
       "      <td>88</td>\n",
       "    </tr>\n",
       "    <tr>\n",
       "      <th>4</th>\n",
       "      <td>Luigi_Vanvitelli</td>\n",
       "      <td>Palacio_Real_de_Caserta</td>\n",
       "      <td>16</td>\n",
       "    </tr>\n",
       "  </tbody>\n",
       "</table>\n",
       "</div>"
      ],
      "text/plain": [
       "             source              destination   n\n",
       "0             Paula              Santa_Paula  17\n",
       "1      other-search        Emirato_de_Trarza  17\n",
       "2            Acteón  Palacio_Real_de_Caserta  11\n",
       "3      other-search                 Sam_Bass  88\n",
       "4  Luigi_Vanvitelli  Palacio_Real_de_Caserta  16"
      ]
     },
     "execution_count": 15,
     "metadata": {},
     "output_type": "execute_result"
    }
   ],
   "source": [
    "df_es.head()"
   ]
  },
  {
   "cell_type": "code",
   "execution_count": 20,
   "id": "5e0f063e",
   "metadata": {},
   "outputs": [],
   "source": [
    "DUMP_DIR = f\"data/\"\n",
    "FILENAME = 'nlwiki-20230601-pages-articles-multistream-index5.txt-p2069271p3569270'\n",
    "CLICKSTREAM_FN = f'{FILENAME}.bz2'"
   ]
  },
  {
   "cell_type": "code",
   "execution_count": 27,
   "id": "3b13107a",
   "metadata": {},
   "outputs": [],
   "source": [
    "# Dutch dataset\n",
    "df_nl = pd.read_csv(DUMP_DIR + CLICKSTREAM_FN,  sep = '\\t', nrows = 40000000)"
   ]
  },
  {
   "cell_type": "code",
   "execution_count": 24,
   "id": "a1f93f10",
   "metadata": {},
   "outputs": [
    {
     "data": {
      "text/html": [
       "<div>\n",
       "<style scoped>\n",
       "    .dataframe tbody tr th:only-of-type {\n",
       "        vertical-align: middle;\n",
       "    }\n",
       "\n",
       "    .dataframe tbody tr th {\n",
       "        vertical-align: top;\n",
       "    }\n",
       "\n",
       "    .dataframe thead th {\n",
       "        text-align: right;\n",
       "    }\n",
       "</style>\n",
       "<table border=\"1\" class=\"dataframe\">\n",
       "  <thead>\n",
       "    <tr style=\"text-align: right;\">\n",
       "      <th></th>\n",
       "      <th>606:2069272:Wereldkampioenschap handbal mannen 2011</th>\n",
       "    </tr>\n",
       "  </thead>\n",
       "  <tbody>\n",
       "    <tr>\n",
       "      <th>0</th>\n",
       "      <td>606:2069273:Jacob van Artois</td>\n",
       "    </tr>\n",
       "    <tr>\n",
       "      <th>1</th>\n",
       "      <td>606:2069276:Gonzales Coques</td>\n",
       "    </tr>\n",
       "    <tr>\n",
       "      <th>2</th>\n",
       "      <td>606:2069278:Zech von Burkensroda</td>\n",
       "    </tr>\n",
       "    <tr>\n",
       "      <th>3</th>\n",
       "      <td>606:2069280:Sulfoleen</td>\n",
       "    </tr>\n",
       "    <tr>\n",
       "      <th>4</th>\n",
       "      <td>606:2069281:Butadieensulfon</td>\n",
       "    </tr>\n",
       "  </tbody>\n",
       "</table>\n",
       "</div>"
      ],
      "text/plain": [
       "  606:2069272:Wereldkampioenschap handbal mannen 2011\n",
       "0                       606:2069273:Jacob van Artois \n",
       "1                        606:2069276:Gonzales Coques \n",
       "2                   606:2069278:Zech von Burkensroda \n",
       "3                              606:2069280:Sulfoleen \n",
       "4                        606:2069281:Butadieensulfon "
      ]
     },
     "execution_count": 24,
     "metadata": {},
     "output_type": "execute_result"
    }
   ],
   "source": [
    "df_nl.head()"
   ]
  },
  {
   "cell_type": "code",
   "execution_count": null,
   "id": "2b468c40",
   "metadata": {},
   "outputs": [],
   "source": []
  }
 ],
 "metadata": {
  "kernelspec": {
   "display_name": "Python 3 (ipykernel)",
   "language": "python",
   "name": "python3"
  },
  "language_info": {
   "codemirror_mode": {
    "name": "ipython",
    "version": 3
   },
   "file_extension": ".py",
   "mimetype": "text/x-python",
   "name": "python",
   "nbconvert_exporter": "python",
   "pygments_lexer": "ipython3",
   "version": "3.9.7"
  }
 },
 "nbformat": 4,
 "nbformat_minor": 5
}
