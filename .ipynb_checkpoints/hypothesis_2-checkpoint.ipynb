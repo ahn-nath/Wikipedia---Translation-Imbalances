{
 "cells": [
  {
   "cell_type": "markdown",
   "id": "57c64d79",
   "metadata": {},
   "source": [
    "# Wikimedia Research - Translation Imbalances: Testing hypothesis #2"
   ]
  },
  {
   "cell_type": "markdown",
   "id": "a5a9739a",
   "metadata": {},
   "source": [
    "# 1. Tests"
   ]
  },
  {
   "cell_type": "markdown",
   "id": "46d8687e",
   "metadata": {},
   "source": [
    "#### Initial test with dumps"
   ]
  },
  {
   "cell_type": "code",
   "execution_count": 2,
   "id": "a4bc669c",
   "metadata": {},
   "outputs": [],
   "source": [
    "# import libraries here\n",
    "import gzip  # necessary for decompressing dump file into text format\n",
    "import pandas as pd\n",
    "import numpy as np"
   ]
  },
  {
   "cell_type": "code",
   "execution_count": 18,
   "id": "e8ab37b2",
   "metadata": {},
   "outputs": [],
   "source": [
    "# Every language on Wikipedia has its own page restrictions table\n",
    "# you can find all the dbnames (e.g., enwiki) here: https://www.mediawiki.org/w/api.php?action=sitematrix\n",
    "# for example, you could replace the LANGUAGE parameter of 'enwiki' with 'arwiki' to study Arabic Wikipedia\n",
    "LANGUAGE = 'eswiki'\n",
    "MONTH = '2023-03'\n",
    "# e.g., enwiki -> en.wikipedia (this is necessary for the API section)\n",
    "SITENAME = LANGUAGE.replace('wiki', '.wikipedia')\n",
    "# directory on PAWS server that holds Wikimedia dumps\n",
    "# DUMP_DIR = f\"/public/dumps/public/other/clickstream/{MONTH}/\"\n",
    "DUMP_DIR = f\"data/\"\n",
    "CLICKSTREAM_FN = f'clickstream-{LANGUAGE}-{MONTH}.tsv.gz'"
   ]
  },
  {
   "cell_type": "code",
   "execution_count": 19,
   "id": "863d623f",
   "metadata": {},
   "outputs": [],
   "source": [
    "# English dataset\n",
    "df_es = pd.read_csv(DUMP_DIR + CLICKSTREAM_FN,  sep = '\\t', names = ['source', 'destination', 'type', 'n'], \n",
    "                    dtype ={'type': 'category', 'n': 'uint32'}, usecols=['source', 'destination', 'n'], nrows = 4000000)"
   ]
  },
  {
   "cell_type": "code",
   "execution_count": 15,
   "id": "fc52d55a",
   "metadata": {},
   "outputs": [
    {
     "data": {
      "text/html": [
       "<div>\n",
       "<style scoped>\n",
       "    .dataframe tbody tr th:only-of-type {\n",
       "        vertical-align: middle;\n",
       "    }\n",
       "\n",
       "    .dataframe tbody tr th {\n",
       "        vertical-align: top;\n",
       "    }\n",
       "\n",
       "    .dataframe thead th {\n",
       "        text-align: right;\n",
       "    }\n",
       "</style>\n",
       "<table border=\"1\" class=\"dataframe\">\n",
       "  <thead>\n",
       "    <tr style=\"text-align: right;\">\n",
       "      <th></th>\n",
       "      <th>source</th>\n",
       "      <th>destination</th>\n",
       "      <th>n</th>\n",
       "    </tr>\n",
       "  </thead>\n",
       "  <tbody>\n",
       "    <tr>\n",
       "      <th>0</th>\n",
       "      <td>Paula</td>\n",
       "      <td>Santa_Paula</td>\n",
       "      <td>17</td>\n",
       "    </tr>\n",
       "    <tr>\n",
       "      <th>1</th>\n",
       "      <td>other-search</td>\n",
       "      <td>Emirato_de_Trarza</td>\n",
       "      <td>17</td>\n",
       "    </tr>\n",
       "    <tr>\n",
       "      <th>2</th>\n",
       "      <td>Acteón</td>\n",
       "      <td>Palacio_Real_de_Caserta</td>\n",
       "      <td>11</td>\n",
       "    </tr>\n",
       "    <tr>\n",
       "      <th>3</th>\n",
       "      <td>other-search</td>\n",
       "      <td>Sam_Bass</td>\n",
       "      <td>88</td>\n",
       "    </tr>\n",
       "    <tr>\n",
       "      <th>4</th>\n",
       "      <td>Luigi_Vanvitelli</td>\n",
       "      <td>Palacio_Real_de_Caserta</td>\n",
       "      <td>16</td>\n",
       "    </tr>\n",
       "  </tbody>\n",
       "</table>\n",
       "</div>"
      ],
      "text/plain": [
       "             source              destination   n\n",
       "0             Paula              Santa_Paula  17\n",
       "1      other-search        Emirato_de_Trarza  17\n",
       "2            Acteón  Palacio_Real_de_Caserta  11\n",
       "3      other-search                 Sam_Bass  88\n",
       "4  Luigi_Vanvitelli  Palacio_Real_de_Caserta  16"
      ]
     },
     "execution_count": 15,
     "metadata": {},
     "output_type": "execute_result"
    }
   ],
   "source": [
    "df_es.head()"
   ]
  },
  {
   "cell_type": "markdown",
   "id": "3cbbc378",
   "metadata": {},
   "source": [
    "#### Dutch Wikimedia - page articles multistream data"
   ]
  },
  {
   "cell_type": "code",
   "execution_count": 20,
   "id": "66533e0c",
   "metadata": {},
   "outputs": [],
   "source": [
    "DUMP_DIR = f\"data/\"\n",
    "FILENAME = 'nlwiki-20230601-pages-articles-multistream-index5.txt-p2069271p3569270'\n",
    "CLICKSTREAM_FN = f'{FILENAME}.bz2'"
   ]
  },
  {
   "cell_type": "code",
   "execution_count": 27,
   "id": "71bb957d",
   "metadata": {},
   "outputs": [],
   "source": [
    "# Dutch dataset\n",
    "df_nl = pd.read_csv(DUMP_DIR + CLICKSTREAM_FN,  sep = '\\t', nrows = 40000000)"
   ]
  },
  {
   "cell_type": "code",
   "execution_count": 24,
   "id": "865e126c",
   "metadata": {},
   "outputs": [
    {
     "data": {
      "text/html": [
       "<div>\n",
       "<style scoped>\n",
       "    .dataframe tbody tr th:only-of-type {\n",
       "        vertical-align: middle;\n",
       "    }\n",
       "\n",
       "    .dataframe tbody tr th {\n",
       "        vertical-align: top;\n",
       "    }\n",
       "\n",
       "    .dataframe thead th {\n",
       "        text-align: right;\n",
       "    }\n",
       "</style>\n",
       "<table border=\"1\" class=\"dataframe\">\n",
       "  <thead>\n",
       "    <tr style=\"text-align: right;\">\n",
       "      <th></th>\n",
       "      <th>606:2069272:Wereldkampioenschap handbal mannen 2011</th>\n",
       "    </tr>\n",
       "  </thead>\n",
       "  <tbody>\n",
       "    <tr>\n",
       "      <th>0</th>\n",
       "      <td>606:2069273:Jacob van Artois</td>\n",
       "    </tr>\n",
       "    <tr>\n",
       "      <th>1</th>\n",
       "      <td>606:2069276:Gonzales Coques</td>\n",
       "    </tr>\n",
       "    <tr>\n",
       "      <th>2</th>\n",
       "      <td>606:2069278:Zech von Burkensroda</td>\n",
       "    </tr>\n",
       "    <tr>\n",
       "      <th>3</th>\n",
       "      <td>606:2069280:Sulfoleen</td>\n",
       "    </tr>\n",
       "    <tr>\n",
       "      <th>4</th>\n",
       "      <td>606:2069281:Butadieensulfon</td>\n",
       "    </tr>\n",
       "  </tbody>\n",
       "</table>\n",
       "</div>"
      ],
      "text/plain": [
       "  606:2069272:Wereldkampioenschap handbal mannen 2011\n",
       "0                       606:2069273:Jacob van Artois \n",
       "1                        606:2069276:Gonzales Coques \n",
       "2                   606:2069278:Zech von Burkensroda \n",
       "3                              606:2069280:Sulfoleen \n",
       "4                        606:2069281:Butadieensulfon "
      ]
     },
     "execution_count": 24,
     "metadata": {},
     "output_type": "execute_result"
    }
   ],
   "source": [
    "df_nl.head()"
   ]
  },
  {
   "cell_type": "code",
   "execution_count": 14,
   "id": "c3eb26db",
   "metadata": {},
   "outputs": [],
   "source": [
    "DUMP_DIR = f\"data/\"\n",
    "FILENAME = 'zhwiki-20230601-pages-articles-multistream-index4.txt-p1389649p2889648'\n",
    "CLICKSTREAM_FN = f'{FILENAME}.bz2'"
   ]
  },
  {
   "cell_type": "code",
   "execution_count": 16,
   "id": "ce69d9f1",
   "metadata": {},
   "outputs": [],
   "source": [
    "df_zh = pd.read_csv(DUMP_DIR + CLICKSTREAM_FN, sep = '\\t', nrows = 40000000)"
   ]
  },
  {
   "cell_type": "code",
   "execution_count": 17,
   "id": "7151b709",
   "metadata": {},
   "outputs": [
    {
     "data": {
      "text/html": [
       "<div>\n",
       "<style scoped>\n",
       "    .dataframe tbody tr th:only-of-type {\n",
       "        vertical-align: middle;\n",
       "    }\n",
       "\n",
       "    .dataframe tbody tr th {\n",
       "        vertical-align: top;\n",
       "    }\n",
       "\n",
       "    .dataframe thead th {\n",
       "        text-align: right;\n",
       "    }\n",
       "</style>\n",
       "<table border=\"1\" class=\"dataframe\">\n",
       "  <thead>\n",
       "    <tr style=\"text-align: right;\">\n",
       "      <th></th>\n",
       "      <th>631:1389652:陸奧號戰艦</th>\n",
       "    </tr>\n",
       "  </thead>\n",
       "  <tbody>\n",
       "    <tr>\n",
       "      <th>0</th>\n",
       "      <td>631:1389657:先天性四肢切斷症</td>\n",
       "    </tr>\n",
       "    <tr>\n",
       "      <th>1</th>\n",
       "      <td>631:1389658:Category:以倫敦為背景的電影</td>\n",
       "    </tr>\n",
       "    <tr>\n",
       "      <th>2</th>\n",
       "      <td>631:1389659:尹桐阳</td>\n",
       "    </tr>\n",
       "    <tr>\n",
       "      <th>3</th>\n",
       "      <td>631:1389660:子癇</td>\n",
       "    </tr>\n",
       "    <tr>\n",
       "      <th>4</th>\n",
       "      <td>631:1389716:邓高镜</td>\n",
       "    </tr>\n",
       "  </tbody>\n",
       "</table>\n",
       "</div>"
      ],
      "text/plain": [
       "                631:1389652:陸奧號戰艦\n",
       "0            631:1389657:先天性四肢切斷症\n",
       "1  631:1389658:Category:以倫敦為背景的電影\n",
       "2                 631:1389659:尹桐阳\n",
       "3                  631:1389660:子癇\n",
       "4                 631:1389716:邓高镜"
      ]
     },
     "execution_count": 17,
     "metadata": {},
     "output_type": "execute_result"
    }
   ],
   "source": [
    "df_zh.head()"
   ]
  },
  {
   "cell_type": "markdown",
   "id": "a8b89f3b",
   "metadata": {},
   "source": [
    "__NOTE__: The MediaWiki API can be language specific. We can use it to contruct the relevant datasets of the users we need. The following will yield different results:\n",
    "- https://es.wikipedia.org/w/api.php?action=query&list=users&ususers=Adamw&usprop=editcount\n",
    "- https://de.wikipedia.org/w/api.php?action=query&list=users&ususers=Adamw&usprop=editcount\n",
    "- https://www.mediawiki.org/w/api.php?action=query&list=users&ususers=Adamw&usprop=editcount&format=json"
   ]
  },
  {
   "cell_type": "code",
   "execution_count": 12,
   "id": "427b479c",
   "metadata": {},
   "outputs": [
    {
     "name": "stdout",
     "output_type": "stream",
     "text": [
      "200\n",
      "{\"batchcomplete\":\"\",\"query\":{\"users\":[{\"userid\":398607,\"name\":\"Adamw\",\"editcount\":1506}]}}\n"
     ]
    },
    {
     "data": {
      "text/plain": [
       "{'batchcomplete': '',\n",
       " 'query': {'users': [{'userid': 398607, 'name': 'Adamw', 'editcount': 1506}]}}"
      ]
     },
     "execution_count": 12,
     "metadata": {},
     "output_type": "execute_result"
    }
   ],
   "source": [
    "import requests\n",
    "\n",
    "url = \"https://www.mediawiki.org/w/api.php?action=query&list=users&ususers=Adamw&usprop=editcount&format=json\"\n",
    "\n",
    "# Making a GET request\n",
    "response = requests.get(url)\n",
    "# See status code\n",
    "print(response.status_code)\n",
    "# See request text\n",
    "print(response.text)\n",
    "\n",
    "response.json()\n"
   ]
  },
  {
   "cell_type": "code",
   "execution_count": 7,
   "id": "e06073a1",
   "metadata": {
    "scrolled": true
   },
   "outputs": [
    {
     "data": {
      "text/plain": [
       "'{\"pages\":[{\"id\":9228,\"key\":\"Earth\",\"title\":\"Earth\",\"excerpt\":\"<span class=\\\\\"searchmatch\\\\\">Earth</span> is the third planet from the Sun and the only place known in the universe where life has originated and found habitability. <span class=\\\\\"searchmatch\\\\\">Earth</span> is the only planet\",\"matched_title\":null,\"description\":\"Third planet from the Sun\",\"thumbnail\":{\"mimetype\":\"image/jpeg\",\"width\":60,\"height\":60,\"duration\":null,\"url\":\"//upload.wikimedia.org/wikipedia/commons/thumb/c/cb/The_Blue_Marble_%28remastered%29.jpg/60px-The_Blue_Marble_%28remastered%29.jpg\"}}]}'"
      ]
     },
     "execution_count": 7,
     "metadata": {},
     "output_type": "execute_result"
    }
   ],
   "source": [
    "import requests\n",
    "\n",
    "url = \"https://en.wikipedia.org/w/rest.php/v1/search/page?q=earth&limit=1\"\n",
    "\n",
    "# Making a GET request\n",
    "response = requests.get(url)\n",
    "# See URL\n",
    "response.url\n",
    "# See status code\n",
    "response.status_code\n",
    "# See request header\n",
    "response.text\n"
   ]
  },
  {
   "cell_type": "markdown",
   "id": "6bff382e",
   "metadata": {},
   "source": [
    "# 2. Implementation"
   ]
  },
  {
   "cell_type": "markdown",
   "id": "2faa7aae",
   "metadata": {},
   "source": [
    "## Data collection"
   ]
  },
  {
   "cell_type": "code",
   "execution_count": 1,
   "id": "ad262289",
   "metadata": {},
   "outputs": [],
   "source": [
    "# import general libraries\n",
    "import csv\n",
    "import ast\n",
    "import re\n",
    "import requests\n",
    "import pandas as pd"
   ]
  },
  {
   "cell_type": "code",
   "execution_count": 2,
   "id": "923bda68",
   "metadata": {
    "scrolled": true
   },
   "outputs": [
    {
     "name": "stdout",
     "output_type": "stream",
     "text": [
      "[{'username': 'Ahn-nath', 'languages': \"['en-4', 'es-5', 'nl-2']\", 'edit_counts': [], 'levels': [], 'langs': []}, {'username': 'Galahad', 'languages': \"['en-1', 'es-5']\", 'edit_counts': [], 'levels': [], 'langs': []}, {'username': 'Adamw', 'languages': \"['de-4', 'en-5', 'es-3']\", 'edit_counts': [], 'levels': [], 'langs': []}, {'username': 'S9H', 'languages': \"['de-5', 'en-4', 'nl-5']\", 'edit_counts': [], 'levels': [], 'langs': []}]\n"
     ]
    },
    {
     "data": {
      "text/plain": [
       "{'Ahn-nath': 0, 'Galahad': 1, 'Adamw': 2, 'S9H': 3}"
      ]
     },
     "execution_count": 2,
     "metadata": {},
     "output_type": "execute_result"
    }
   ],
   "source": [
    "## Collect users and languages\n",
    "from csv import DictReader\n",
    "\n",
    "# open file in read mode and convert to list of dictionaries\n",
    "users = csv.DictReader(open('data/user_languages_sample.csv'))\n",
    "users_lat = []\n",
    "# initialize list to help us associate index and users for future merge\n",
    "user_index = {}\n",
    "\n",
    "# iterate over results to initialize copy and set new columns\n",
    "for i, row in enumerate(users):\n",
    "    # append row to copy\n",
    "    users_lat.append(row)\n",
    "    \n",
    "    # initialize fields\n",
    "    row['edit_counts'] = []\n",
    "    row['levels'] = []\n",
    "    row['langs'] = []\n",
    "    \n",
    "    # update mapper\n",
    "    username = row['username']\n",
    "    user_index[username] = i \n",
    "    \n",
    "# out\n",
    "print(users_lat)    \n",
    "user_index   "
   ]
  },
  {
   "cell_type": "markdown",
   "id": "420c1ad7",
   "metadata": {},
   "source": [
    "## Data processing"
   ]
  },
  {
   "cell_type": "markdown",
   "id": "7ff1a0b6",
   "metadata": {},
   "source": [
    "Some possibilities is to have a dataframe that has \n",
    "[username],[language],[level],[edit count] "
   ]
  },
  {
   "cell_type": "code",
   "execution_count": 3,
   "id": "07c152c9",
   "metadata": {},
   "outputs": [
    {
     "name": "stdout",
     "output_type": "stream",
     "text": [
      "{'en': ['Ahn-nath', 'Galahad', 'Adamw', 'S9H'], 'es': ['Ahn-nath', 'Galahad', 'Adamw'], 'nl': ['Ahn-nath', 'S9H'], 'de': ['Adamw', 'S9H']}\n",
      "\n",
      " [{'username': 'Ahn-nath', 'languages': \"['en-4', 'es-5', 'nl-2']\", 'edit_counts': {'en': 0, 'es': 0, 'nl': 0}, 'levels': ['4', '5', '2'], 'langs': ['en', 'es', 'nl']}, {'username': 'Galahad', 'languages': \"['en-1', 'es-5']\", 'edit_counts': {'en': 0, 'es': 0}, 'levels': ['1', '5'], 'langs': ['en', 'es']}, {'username': 'Adamw', 'languages': \"['de-4', 'en-5', 'es-3']\", 'edit_counts': {'de': 0, 'en': 0, 'es': 0}, 'levels': ['4', '5', '3'], 'langs': ['de', 'en', 'es']}, {'username': 'S9H', 'languages': \"['de-5', 'en-4', 'nl-5']\", 'edit_counts': {'de': 0, 'en': 0, 'nl': 0}, 'levels': ['5', '4', '5'], 'langs': ['de', 'en', 'nl']}]\n"
     ]
    }
   ],
   "source": [
    "## Clean initial data and update rows and prepare data for requests\n",
    "\n",
    "# dictionary neede to make request by language and associated user list\n",
    "language_match_dict = {}\n",
    "    \n",
    "for row in users_lat:\n",
    "    username = row['username']\n",
    "    languages = res = ast.literal_eval(row['languages'])\n",
    "    langs = []\n",
    "    levels = []\n",
    "    edit_keys = {}\n",
    "\n",
    "    for lang in languages:\n",
    "        # get language level (last char)\n",
    "        levels.append(lang[-1])\n",
    "        # get the language (anything but the r'-/d')\n",
    "        lang = lang[:-2]\n",
    "        langs.append(lang)\n",
    "        edit_keys[lang] = 0\n",
    "        \n",
    "        # add to the user to the corresponding language group\n",
    "        if lang in language_match_dict:\n",
    "            language_match_dict[lang].append(username)\n",
    "        else:\n",
    "            language_match_dict[lang] = [username]\n",
    "    \n",
    "    # update row columns after cleaning\n",
    "    row['langs'] = langs\n",
    "    row['levels'] = levels\n",
    "    row['edit_counts'] = edit_keys\n",
    "\n",
    "# out\n",
    "print(language_match_dict)\n",
    "print(f'\\n {users_lat}')"
   ]
  },
  {
   "cell_type": "code",
   "execution_count": 4,
   "id": "3bad539f",
   "metadata": {},
   "outputs": [
    {
     "ename": "ConnectionError",
     "evalue": "HTTPSConnectionPool(host='en.wikipedia.org', port=443): Max retries exceeded with url: /w/api.php?action=query&list=users&ususers=Ahn-nath%7CGalahad%7CAdamw%7CS9H&usprop=editcount&format=json (Caused by NewConnectionError('<urllib3.connection.HTTPSConnection object at 0x000002056A0197F0>: Failed to establish a new connection: [Errno 11001] getaddrinfo failed'))",
     "output_type": "error",
     "traceback": [
      "\u001b[1;31m---------------------------------------------------------------------------\u001b[0m",
      "\u001b[1;31mgaierror\u001b[0m                                  Traceback (most recent call last)",
      "\u001b[1;32m~\\anaconda3\\lib\\site-packages\\urllib3\\connection.py\u001b[0m in \u001b[0;36m_new_conn\u001b[1;34m(self)\u001b[0m\n\u001b[0;32m    173\u001b[0m         \u001b[1;32mtry\u001b[0m\u001b[1;33m:\u001b[0m\u001b[1;33m\u001b[0m\u001b[1;33m\u001b[0m\u001b[0m\n\u001b[1;32m--> 174\u001b[1;33m             conn = connection.create_connection(\n\u001b[0m\u001b[0;32m    175\u001b[0m                 \u001b[1;33m(\u001b[0m\u001b[0mself\u001b[0m\u001b[1;33m.\u001b[0m\u001b[0m_dns_host\u001b[0m\u001b[1;33m,\u001b[0m \u001b[0mself\u001b[0m\u001b[1;33m.\u001b[0m\u001b[0mport\u001b[0m\u001b[1;33m)\u001b[0m\u001b[1;33m,\u001b[0m \u001b[0mself\u001b[0m\u001b[1;33m.\u001b[0m\u001b[0mtimeout\u001b[0m\u001b[1;33m,\u001b[0m \u001b[1;33m**\u001b[0m\u001b[0mextra_kw\u001b[0m\u001b[1;33m\u001b[0m\u001b[1;33m\u001b[0m\u001b[0m\n",
      "\u001b[1;32m~\\anaconda3\\lib\\site-packages\\urllib3\\util\\connection.py\u001b[0m in \u001b[0;36mcreate_connection\u001b[1;34m(address, timeout, source_address, socket_options)\u001b[0m\n\u001b[0;32m     72\u001b[0m \u001b[1;33m\u001b[0m\u001b[0m\n\u001b[1;32m---> 73\u001b[1;33m     \u001b[1;32mfor\u001b[0m \u001b[0mres\u001b[0m \u001b[1;32min\u001b[0m \u001b[0msocket\u001b[0m\u001b[1;33m.\u001b[0m\u001b[0mgetaddrinfo\u001b[0m\u001b[1;33m(\u001b[0m\u001b[0mhost\u001b[0m\u001b[1;33m,\u001b[0m \u001b[0mport\u001b[0m\u001b[1;33m,\u001b[0m \u001b[0mfamily\u001b[0m\u001b[1;33m,\u001b[0m \u001b[0msocket\u001b[0m\u001b[1;33m.\u001b[0m\u001b[0mSOCK_STREAM\u001b[0m\u001b[1;33m)\u001b[0m\u001b[1;33m:\u001b[0m\u001b[1;33m\u001b[0m\u001b[1;33m\u001b[0m\u001b[0m\n\u001b[0m\u001b[0;32m     74\u001b[0m         \u001b[0maf\u001b[0m\u001b[1;33m,\u001b[0m \u001b[0msocktype\u001b[0m\u001b[1;33m,\u001b[0m \u001b[0mproto\u001b[0m\u001b[1;33m,\u001b[0m \u001b[0mcanonname\u001b[0m\u001b[1;33m,\u001b[0m \u001b[0msa\u001b[0m \u001b[1;33m=\u001b[0m \u001b[0mres\u001b[0m\u001b[1;33m\u001b[0m\u001b[1;33m\u001b[0m\u001b[0m\n",
      "\u001b[1;32m~\\anaconda3\\lib\\socket.py\u001b[0m in \u001b[0;36mgetaddrinfo\u001b[1;34m(host, port, family, type, proto, flags)\u001b[0m\n\u001b[0;32m    953\u001b[0m     \u001b[0maddrlist\u001b[0m \u001b[1;33m=\u001b[0m \u001b[1;33m[\u001b[0m\u001b[1;33m]\u001b[0m\u001b[1;33m\u001b[0m\u001b[1;33m\u001b[0m\u001b[0m\n\u001b[1;32m--> 954\u001b[1;33m     \u001b[1;32mfor\u001b[0m \u001b[0mres\u001b[0m \u001b[1;32min\u001b[0m \u001b[0m_socket\u001b[0m\u001b[1;33m.\u001b[0m\u001b[0mgetaddrinfo\u001b[0m\u001b[1;33m(\u001b[0m\u001b[0mhost\u001b[0m\u001b[1;33m,\u001b[0m \u001b[0mport\u001b[0m\u001b[1;33m,\u001b[0m \u001b[0mfamily\u001b[0m\u001b[1;33m,\u001b[0m \u001b[0mtype\u001b[0m\u001b[1;33m,\u001b[0m \u001b[0mproto\u001b[0m\u001b[1;33m,\u001b[0m \u001b[0mflags\u001b[0m\u001b[1;33m)\u001b[0m\u001b[1;33m:\u001b[0m\u001b[1;33m\u001b[0m\u001b[1;33m\u001b[0m\u001b[0m\n\u001b[0m\u001b[0;32m    955\u001b[0m         \u001b[0maf\u001b[0m\u001b[1;33m,\u001b[0m \u001b[0msocktype\u001b[0m\u001b[1;33m,\u001b[0m \u001b[0mproto\u001b[0m\u001b[1;33m,\u001b[0m \u001b[0mcanonname\u001b[0m\u001b[1;33m,\u001b[0m \u001b[0msa\u001b[0m \u001b[1;33m=\u001b[0m \u001b[0mres\u001b[0m\u001b[1;33m\u001b[0m\u001b[1;33m\u001b[0m\u001b[0m\n",
      "\u001b[1;31mgaierror\u001b[0m: [Errno 11001] getaddrinfo failed",
      "\nDuring handling of the above exception, another exception occurred:\n",
      "\u001b[1;31mNewConnectionError\u001b[0m                        Traceback (most recent call last)",
      "\u001b[1;32m~\\anaconda3\\lib\\site-packages\\urllib3\\connectionpool.py\u001b[0m in \u001b[0;36murlopen\u001b[1;34m(self, method, url, body, headers, retries, redirect, assert_same_host, timeout, pool_timeout, release_conn, chunked, body_pos, **response_kw)\u001b[0m\n\u001b[0;32m    698\u001b[0m             \u001b[1;31m# Make the request on the httplib connection object.\u001b[0m\u001b[1;33m\u001b[0m\u001b[1;33m\u001b[0m\u001b[0m\n\u001b[1;32m--> 699\u001b[1;33m             httplib_response = self._make_request(\n\u001b[0m\u001b[0;32m    700\u001b[0m                 \u001b[0mconn\u001b[0m\u001b[1;33m,\u001b[0m\u001b[1;33m\u001b[0m\u001b[1;33m\u001b[0m\u001b[0m\n",
      "\u001b[1;32m~\\anaconda3\\lib\\site-packages\\urllib3\\connectionpool.py\u001b[0m in \u001b[0;36m_make_request\u001b[1;34m(self, conn, method, url, timeout, chunked, **httplib_request_kw)\u001b[0m\n\u001b[0;32m    381\u001b[0m         \u001b[1;32mtry\u001b[0m\u001b[1;33m:\u001b[0m\u001b[1;33m\u001b[0m\u001b[1;33m\u001b[0m\u001b[0m\n\u001b[1;32m--> 382\u001b[1;33m             \u001b[0mself\u001b[0m\u001b[1;33m.\u001b[0m\u001b[0m_validate_conn\u001b[0m\u001b[1;33m(\u001b[0m\u001b[0mconn\u001b[0m\u001b[1;33m)\u001b[0m\u001b[1;33m\u001b[0m\u001b[1;33m\u001b[0m\u001b[0m\n\u001b[0m\u001b[0;32m    383\u001b[0m         \u001b[1;32mexcept\u001b[0m \u001b[1;33m(\u001b[0m\u001b[0mSocketTimeout\u001b[0m\u001b[1;33m,\u001b[0m \u001b[0mBaseSSLError\u001b[0m\u001b[1;33m)\u001b[0m \u001b[1;32mas\u001b[0m \u001b[0me\u001b[0m\u001b[1;33m:\u001b[0m\u001b[1;33m\u001b[0m\u001b[1;33m\u001b[0m\u001b[0m\n",
      "\u001b[1;32m~\\anaconda3\\lib\\site-packages\\urllib3\\connectionpool.py\u001b[0m in \u001b[0;36m_validate_conn\u001b[1;34m(self, conn)\u001b[0m\n\u001b[0;32m   1009\u001b[0m         \u001b[1;32mif\u001b[0m \u001b[1;32mnot\u001b[0m \u001b[0mgetattr\u001b[0m\u001b[1;33m(\u001b[0m\u001b[0mconn\u001b[0m\u001b[1;33m,\u001b[0m \u001b[1;34m\"sock\"\u001b[0m\u001b[1;33m,\u001b[0m \u001b[1;32mNone\u001b[0m\u001b[1;33m)\u001b[0m\u001b[1;33m:\u001b[0m  \u001b[1;31m# AppEngine might not have  `.sock`\u001b[0m\u001b[1;33m\u001b[0m\u001b[1;33m\u001b[0m\u001b[0m\n\u001b[1;32m-> 1010\u001b[1;33m             \u001b[0mconn\u001b[0m\u001b[1;33m.\u001b[0m\u001b[0mconnect\u001b[0m\u001b[1;33m(\u001b[0m\u001b[1;33m)\u001b[0m\u001b[1;33m\u001b[0m\u001b[1;33m\u001b[0m\u001b[0m\n\u001b[0m\u001b[0;32m   1011\u001b[0m \u001b[1;33m\u001b[0m\u001b[0m\n",
      "\u001b[1;32m~\\anaconda3\\lib\\site-packages\\urllib3\\connection.py\u001b[0m in \u001b[0;36mconnect\u001b[1;34m(self)\u001b[0m\n\u001b[0;32m    357\u001b[0m         \u001b[1;31m# Add certificate verification\u001b[0m\u001b[1;33m\u001b[0m\u001b[1;33m\u001b[0m\u001b[0m\n\u001b[1;32m--> 358\u001b[1;33m         \u001b[0mconn\u001b[0m \u001b[1;33m=\u001b[0m \u001b[0mself\u001b[0m\u001b[1;33m.\u001b[0m\u001b[0m_new_conn\u001b[0m\u001b[1;33m(\u001b[0m\u001b[1;33m)\u001b[0m\u001b[1;33m\u001b[0m\u001b[1;33m\u001b[0m\u001b[0m\n\u001b[0m\u001b[0;32m    359\u001b[0m         \u001b[0mhostname\u001b[0m \u001b[1;33m=\u001b[0m \u001b[0mself\u001b[0m\u001b[1;33m.\u001b[0m\u001b[0mhost\u001b[0m\u001b[1;33m\u001b[0m\u001b[1;33m\u001b[0m\u001b[0m\n",
      "\u001b[1;32m~\\anaconda3\\lib\\site-packages\\urllib3\\connection.py\u001b[0m in \u001b[0;36m_new_conn\u001b[1;34m(self)\u001b[0m\n\u001b[0;32m    185\u001b[0m         \u001b[1;32mexcept\u001b[0m \u001b[0mSocketError\u001b[0m \u001b[1;32mas\u001b[0m \u001b[0me\u001b[0m\u001b[1;33m:\u001b[0m\u001b[1;33m\u001b[0m\u001b[1;33m\u001b[0m\u001b[0m\n\u001b[1;32m--> 186\u001b[1;33m             raise NewConnectionError(\n\u001b[0m\u001b[0;32m    187\u001b[0m                 \u001b[0mself\u001b[0m\u001b[1;33m,\u001b[0m \u001b[1;34m\"Failed to establish a new connection: %s\"\u001b[0m \u001b[1;33m%\u001b[0m \u001b[0me\u001b[0m\u001b[1;33m\u001b[0m\u001b[1;33m\u001b[0m\u001b[0m\n",
      "\u001b[1;31mNewConnectionError\u001b[0m: <urllib3.connection.HTTPSConnection object at 0x000002056A0197F0>: Failed to establish a new connection: [Errno 11001] getaddrinfo failed",
      "\nDuring handling of the above exception, another exception occurred:\n",
      "\u001b[1;31mMaxRetryError\u001b[0m                             Traceback (most recent call last)",
      "\u001b[1;32m~\\anaconda3\\lib\\site-packages\\requests\\adapters.py\u001b[0m in \u001b[0;36msend\u001b[1;34m(self, request, stream, timeout, verify, cert, proxies)\u001b[0m\n\u001b[0;32m    438\u001b[0m             \u001b[1;32mif\u001b[0m \u001b[1;32mnot\u001b[0m \u001b[0mchunked\u001b[0m\u001b[1;33m:\u001b[0m\u001b[1;33m\u001b[0m\u001b[1;33m\u001b[0m\u001b[0m\n\u001b[1;32m--> 439\u001b[1;33m                 resp = conn.urlopen(\n\u001b[0m\u001b[0;32m    440\u001b[0m                     \u001b[0mmethod\u001b[0m\u001b[1;33m=\u001b[0m\u001b[0mrequest\u001b[0m\u001b[1;33m.\u001b[0m\u001b[0mmethod\u001b[0m\u001b[1;33m,\u001b[0m\u001b[1;33m\u001b[0m\u001b[1;33m\u001b[0m\u001b[0m\n",
      "\u001b[1;32m~\\anaconda3\\lib\\site-packages\\urllib3\\connectionpool.py\u001b[0m in \u001b[0;36murlopen\u001b[1;34m(self, method, url, body, headers, retries, redirect, assert_same_host, timeout, pool_timeout, release_conn, chunked, body_pos, **response_kw)\u001b[0m\n\u001b[0;32m    754\u001b[0m \u001b[1;33m\u001b[0m\u001b[0m\n\u001b[1;32m--> 755\u001b[1;33m             retries = retries.increment(\n\u001b[0m\u001b[0;32m    756\u001b[0m                 \u001b[0mmethod\u001b[0m\u001b[1;33m,\u001b[0m \u001b[0murl\u001b[0m\u001b[1;33m,\u001b[0m \u001b[0merror\u001b[0m\u001b[1;33m=\u001b[0m\u001b[0me\u001b[0m\u001b[1;33m,\u001b[0m \u001b[0m_pool\u001b[0m\u001b[1;33m=\u001b[0m\u001b[0mself\u001b[0m\u001b[1;33m,\u001b[0m \u001b[0m_stacktrace\u001b[0m\u001b[1;33m=\u001b[0m\u001b[0msys\u001b[0m\u001b[1;33m.\u001b[0m\u001b[0mexc_info\u001b[0m\u001b[1;33m(\u001b[0m\u001b[1;33m)\u001b[0m\u001b[1;33m[\u001b[0m\u001b[1;36m2\u001b[0m\u001b[1;33m]\u001b[0m\u001b[1;33m\u001b[0m\u001b[1;33m\u001b[0m\u001b[0m\n",
      "\u001b[1;32m~\\anaconda3\\lib\\site-packages\\urllib3\\util\\retry.py\u001b[0m in \u001b[0;36mincrement\u001b[1;34m(self, method, url, response, error, _pool, _stacktrace)\u001b[0m\n\u001b[0;32m    573\u001b[0m         \u001b[1;32mif\u001b[0m \u001b[0mnew_retry\u001b[0m\u001b[1;33m.\u001b[0m\u001b[0mis_exhausted\u001b[0m\u001b[1;33m(\u001b[0m\u001b[1;33m)\u001b[0m\u001b[1;33m:\u001b[0m\u001b[1;33m\u001b[0m\u001b[1;33m\u001b[0m\u001b[0m\n\u001b[1;32m--> 574\u001b[1;33m             \u001b[1;32mraise\u001b[0m \u001b[0mMaxRetryError\u001b[0m\u001b[1;33m(\u001b[0m\u001b[0m_pool\u001b[0m\u001b[1;33m,\u001b[0m \u001b[0murl\u001b[0m\u001b[1;33m,\u001b[0m \u001b[0merror\u001b[0m \u001b[1;32mor\u001b[0m \u001b[0mResponseError\u001b[0m\u001b[1;33m(\u001b[0m\u001b[0mcause\u001b[0m\u001b[1;33m)\u001b[0m\u001b[1;33m)\u001b[0m\u001b[1;33m\u001b[0m\u001b[1;33m\u001b[0m\u001b[0m\n\u001b[0m\u001b[0;32m    575\u001b[0m \u001b[1;33m\u001b[0m\u001b[0m\n",
      "\u001b[1;31mMaxRetryError\u001b[0m: HTTPSConnectionPool(host='en.wikipedia.org', port=443): Max retries exceeded with url: /w/api.php?action=query&list=users&ususers=Ahn-nath%7CGalahad%7CAdamw%7CS9H&usprop=editcount&format=json (Caused by NewConnectionError('<urllib3.connection.HTTPSConnection object at 0x000002056A0197F0>: Failed to establish a new connection: [Errno 11001] getaddrinfo failed'))",
      "\nDuring handling of the above exception, another exception occurred:\n",
      "\u001b[1;31mConnectionError\u001b[0m                           Traceback (most recent call last)",
      "\u001b[1;32m~\\AppData\\Local\\Temp/ipykernel_7660/2110549073.py\u001b[0m in \u001b[0;36m<module>\u001b[1;34m\u001b[0m\n\u001b[0;32m     11\u001b[0m \u001b[1;33m\u001b[0m\u001b[0m\n\u001b[0;32m     12\u001b[0m     \u001b[1;31m# GET request\u001b[0m\u001b[1;33m\u001b[0m\u001b[1;33m\u001b[0m\u001b[0m\n\u001b[1;32m---> 13\u001b[1;33m     \u001b[0mresponse\u001b[0m \u001b[1;33m=\u001b[0m \u001b[0mrequests\u001b[0m\u001b[1;33m.\u001b[0m\u001b[0mget\u001b[0m\u001b[1;33m(\u001b[0m\u001b[0murl\u001b[0m\u001b[1;33m)\u001b[0m\u001b[1;33m\u001b[0m\u001b[1;33m\u001b[0m\u001b[0m\n\u001b[0m\u001b[0;32m     14\u001b[0m     \u001b[1;32mif\u001b[0m \u001b[0mresponse\u001b[0m\u001b[1;33m.\u001b[0m\u001b[0mstatus_code\u001b[0m \u001b[1;33m==\u001b[0m \u001b[1;36m200\u001b[0m\u001b[1;33m:\u001b[0m\u001b[1;33m\u001b[0m\u001b[1;33m\u001b[0m\u001b[0m\n\u001b[0;32m     15\u001b[0m         \u001b[1;31m# See request JSON\u001b[0m\u001b[1;33m\u001b[0m\u001b[1;33m\u001b[0m\u001b[0m\n",
      "\u001b[1;32m~\\anaconda3\\lib\\site-packages\\requests\\api.py\u001b[0m in \u001b[0;36mget\u001b[1;34m(url, params, **kwargs)\u001b[0m\n\u001b[0;32m     73\u001b[0m     \"\"\"\n\u001b[0;32m     74\u001b[0m \u001b[1;33m\u001b[0m\u001b[0m\n\u001b[1;32m---> 75\u001b[1;33m     \u001b[1;32mreturn\u001b[0m \u001b[0mrequest\u001b[0m\u001b[1;33m(\u001b[0m\u001b[1;34m'get'\u001b[0m\u001b[1;33m,\u001b[0m \u001b[0murl\u001b[0m\u001b[1;33m,\u001b[0m \u001b[0mparams\u001b[0m\u001b[1;33m=\u001b[0m\u001b[0mparams\u001b[0m\u001b[1;33m,\u001b[0m \u001b[1;33m**\u001b[0m\u001b[0mkwargs\u001b[0m\u001b[1;33m)\u001b[0m\u001b[1;33m\u001b[0m\u001b[1;33m\u001b[0m\u001b[0m\n\u001b[0m\u001b[0;32m     76\u001b[0m \u001b[1;33m\u001b[0m\u001b[0m\n\u001b[0;32m     77\u001b[0m \u001b[1;33m\u001b[0m\u001b[0m\n",
      "\u001b[1;32m~\\anaconda3\\lib\\site-packages\\requests\\api.py\u001b[0m in \u001b[0;36mrequest\u001b[1;34m(method, url, **kwargs)\u001b[0m\n\u001b[0;32m     59\u001b[0m     \u001b[1;31m# cases, and look like a memory leak in others.\u001b[0m\u001b[1;33m\u001b[0m\u001b[1;33m\u001b[0m\u001b[0m\n\u001b[0;32m     60\u001b[0m     \u001b[1;32mwith\u001b[0m \u001b[0msessions\u001b[0m\u001b[1;33m.\u001b[0m\u001b[0mSession\u001b[0m\u001b[1;33m(\u001b[0m\u001b[1;33m)\u001b[0m \u001b[1;32mas\u001b[0m \u001b[0msession\u001b[0m\u001b[1;33m:\u001b[0m\u001b[1;33m\u001b[0m\u001b[1;33m\u001b[0m\u001b[0m\n\u001b[1;32m---> 61\u001b[1;33m         \u001b[1;32mreturn\u001b[0m \u001b[0msession\u001b[0m\u001b[1;33m.\u001b[0m\u001b[0mrequest\u001b[0m\u001b[1;33m(\u001b[0m\u001b[0mmethod\u001b[0m\u001b[1;33m=\u001b[0m\u001b[0mmethod\u001b[0m\u001b[1;33m,\u001b[0m \u001b[0murl\u001b[0m\u001b[1;33m=\u001b[0m\u001b[0murl\u001b[0m\u001b[1;33m,\u001b[0m \u001b[1;33m**\u001b[0m\u001b[0mkwargs\u001b[0m\u001b[1;33m)\u001b[0m\u001b[1;33m\u001b[0m\u001b[1;33m\u001b[0m\u001b[0m\n\u001b[0m\u001b[0;32m     62\u001b[0m \u001b[1;33m\u001b[0m\u001b[0m\n\u001b[0;32m     63\u001b[0m \u001b[1;33m\u001b[0m\u001b[0m\n",
      "\u001b[1;32m~\\anaconda3\\lib\\site-packages\\requests\\sessions.py\u001b[0m in \u001b[0;36mrequest\u001b[1;34m(self, method, url, params, data, headers, cookies, files, auth, timeout, allow_redirects, proxies, hooks, stream, verify, cert, json)\u001b[0m\n\u001b[0;32m    540\u001b[0m         }\n\u001b[0;32m    541\u001b[0m         \u001b[0msend_kwargs\u001b[0m\u001b[1;33m.\u001b[0m\u001b[0mupdate\u001b[0m\u001b[1;33m(\u001b[0m\u001b[0msettings\u001b[0m\u001b[1;33m)\u001b[0m\u001b[1;33m\u001b[0m\u001b[1;33m\u001b[0m\u001b[0m\n\u001b[1;32m--> 542\u001b[1;33m         \u001b[0mresp\u001b[0m \u001b[1;33m=\u001b[0m \u001b[0mself\u001b[0m\u001b[1;33m.\u001b[0m\u001b[0msend\u001b[0m\u001b[1;33m(\u001b[0m\u001b[0mprep\u001b[0m\u001b[1;33m,\u001b[0m \u001b[1;33m**\u001b[0m\u001b[0msend_kwargs\u001b[0m\u001b[1;33m)\u001b[0m\u001b[1;33m\u001b[0m\u001b[1;33m\u001b[0m\u001b[0m\n\u001b[0m\u001b[0;32m    543\u001b[0m \u001b[1;33m\u001b[0m\u001b[0m\n\u001b[0;32m    544\u001b[0m         \u001b[1;32mreturn\u001b[0m \u001b[0mresp\u001b[0m\u001b[1;33m\u001b[0m\u001b[1;33m\u001b[0m\u001b[0m\n",
      "\u001b[1;32m~\\anaconda3\\lib\\site-packages\\requests\\sessions.py\u001b[0m in \u001b[0;36msend\u001b[1;34m(self, request, **kwargs)\u001b[0m\n\u001b[0;32m    653\u001b[0m \u001b[1;33m\u001b[0m\u001b[0m\n\u001b[0;32m    654\u001b[0m         \u001b[1;31m# Send the request\u001b[0m\u001b[1;33m\u001b[0m\u001b[1;33m\u001b[0m\u001b[0m\n\u001b[1;32m--> 655\u001b[1;33m         \u001b[0mr\u001b[0m \u001b[1;33m=\u001b[0m \u001b[0madapter\u001b[0m\u001b[1;33m.\u001b[0m\u001b[0msend\u001b[0m\u001b[1;33m(\u001b[0m\u001b[0mrequest\u001b[0m\u001b[1;33m,\u001b[0m \u001b[1;33m**\u001b[0m\u001b[0mkwargs\u001b[0m\u001b[1;33m)\u001b[0m\u001b[1;33m\u001b[0m\u001b[1;33m\u001b[0m\u001b[0m\n\u001b[0m\u001b[0;32m    656\u001b[0m \u001b[1;33m\u001b[0m\u001b[0m\n\u001b[0;32m    657\u001b[0m         \u001b[1;31m# Total elapsed time of the request (approximately)\u001b[0m\u001b[1;33m\u001b[0m\u001b[1;33m\u001b[0m\u001b[0m\n",
      "\u001b[1;32m~\\anaconda3\\lib\\site-packages\\requests\\adapters.py\u001b[0m in \u001b[0;36msend\u001b[1;34m(self, request, stream, timeout, verify, cert, proxies)\u001b[0m\n\u001b[0;32m    514\u001b[0m                 \u001b[1;32mraise\u001b[0m \u001b[0mSSLError\u001b[0m\u001b[1;33m(\u001b[0m\u001b[0me\u001b[0m\u001b[1;33m,\u001b[0m \u001b[0mrequest\u001b[0m\u001b[1;33m=\u001b[0m\u001b[0mrequest\u001b[0m\u001b[1;33m)\u001b[0m\u001b[1;33m\u001b[0m\u001b[1;33m\u001b[0m\u001b[0m\n\u001b[0;32m    515\u001b[0m \u001b[1;33m\u001b[0m\u001b[0m\n\u001b[1;32m--> 516\u001b[1;33m             \u001b[1;32mraise\u001b[0m \u001b[0mConnectionError\u001b[0m\u001b[1;33m(\u001b[0m\u001b[0me\u001b[0m\u001b[1;33m,\u001b[0m \u001b[0mrequest\u001b[0m\u001b[1;33m=\u001b[0m\u001b[0mrequest\u001b[0m\u001b[1;33m)\u001b[0m\u001b[1;33m\u001b[0m\u001b[1;33m\u001b[0m\u001b[0m\n\u001b[0m\u001b[0;32m    517\u001b[0m \u001b[1;33m\u001b[0m\u001b[0m\n\u001b[0;32m    518\u001b[0m         \u001b[1;32mexcept\u001b[0m \u001b[0mClosedPoolError\u001b[0m \u001b[1;32mas\u001b[0m \u001b[0me\u001b[0m\u001b[1;33m:\u001b[0m\u001b[1;33m\u001b[0m\u001b[1;33m\u001b[0m\u001b[0m\n",
      "\u001b[1;31mConnectionError\u001b[0m: HTTPSConnectionPool(host='en.wikipedia.org', port=443): Max retries exceeded with url: /w/api.php?action=query&list=users&ususers=Ahn-nath%7CGalahad%7CAdamw%7CS9H&usprop=editcount&format=json (Caused by NewConnectionError('<urllib3.connection.HTTPSConnection object at 0x000002056A0197F0>: Failed to establish a new connection: [Errno 11001] getaddrinfo failed'))"
     ]
    }
   ],
   "source": [
    "## Per each language, make request to get the data and merge it with larger dictionary\n",
    "# Reference: https://www.mediawiki.org/w/api.php?action=help&modules=query%2Busers\n",
    "\n",
    "user_edit_counts = {}\n",
    "langs = language_match_dict.keys()\n",
    "\n",
    "\n",
    "for lang in langs:\n",
    "    users =  \"|\".join(language_match_dict[lang])\n",
    "    url = f'https://{lang}.wikipedia.org/w/api.php?action=query&list=users&ususers={users}&usprop=editcount&format=json'\n",
    "\n",
    "    # GET request\n",
    "    response = requests.get(url)\n",
    "    if response.status_code == 200:\n",
    "        # See request JSON\n",
    "        res = response.json()['query']['users']\n",
    "        print('\\n')\n",
    "        print(users)\n",
    "        print(res)\n",
    "\n",
    "        # save results to dictionary to process later\n",
    "        user_edit_counts[lang] = res \n",
    "\n",
    "    else: \n",
    "        # error with URL\n",
    "        print(\"There was an error with the URL\", url)\n",
    "\n"
   ]
  },
  {
   "cell_type": "code",
   "execution_count": 6,
   "id": "fee7d62d",
   "metadata": {},
   "outputs": [
    {
     "data": {
      "text/plain": [
       "{'en': [{'userid': 41581385, 'name': 'Ahn-nath', 'editcount': 1},\n",
       "  {'userid': 9754306, 'name': 'Galahad', 'editcount': 30},\n",
       "  {'userid': 513988, 'name': 'Adamw', 'editcount': 353},\n",
       "  {'userid': 40753429, 'name': 'S9H', 'editcount': 2}],\n",
       " 'es': [{'userid': 6193057, 'name': 'Ahn-nath', 'editcount': 0},\n",
       "  {'userid': 1073955, 'name': 'Galahad', 'editcount': 3920},\n",
       "  {'userid': 2467636, 'name': 'Adamw', 'editcount': 6}],\n",
       " 'nl': [{'userid': 1279805, 'name': 'Ahn-nath', 'editcount': 0},\n",
       "  {'userid': 1114116, 'name': 'S9H', 'editcount': 24024}],\n",
       " 'de': [{'userid': 2351847, 'name': 'Adamw', 'editcount': 2146},\n",
       "  {'userid': 3640149, 'name': 'S9H', 'editcount': 0}]}"
      ]
     },
     "execution_count": 6,
     "metadata": {},
     "output_type": "execute_result"
    }
   ],
   "source": [
    "user_edit_counts"
   ]
  },
  {
   "cell_type": "code",
   "execution_count": 5,
   "id": "eb8e6870",
   "metadata": {},
   "outputs": [],
   "source": [
    "# {\"batchcomplete\":\"\",\"query\":{\"users\":[{\"userid\":398607,\"name\":\"Adamw\",\"editcount\":1506}]}}\n",
    "# NOTE: run it if you can run the previous two lines OR if you want to test dummy data \n",
    "\n",
    "# dummy data to use when there is not internet connection\n",
    "user_edit_counts_temp = {\n",
    "    'nl': [{\"userid\":198607,\"name\":\"Ahn-nath\",\"editcount\":15}],\n",
    "    'es': [{\"userid\":298607,\"name\":\"Adamw\",\"editcount\":156}, \n",
    "           {\"userid\":198607,\"name\":\"Ahn-nath\",\"editcount\":160},\n",
    "           {\"userid\":298607,\"name\":\"Galahad\",\"editcount\":4058}\n",
    "          ], \n",
    "           \n",
    "    'en': [{\"userid\":298607,\"name\":\"Adamw\",\"editcount\":156}, \n",
    "           {\"userid\":198607,\"name\":\"Ahn-nath\",\"editcount\":150},\n",
    "           {\"userid\":398607,\"name\":\"Galahad\",\"editcount\":4056},\n",
    "           {\"userid\":498607,\"name\":\"S9H\",\"editcount\":4056}\n",
    "          ],\n",
    "    'de': [{\"userid\":298607,\"name\":\"Adamw\",\"editcount\":3506},\n",
    "          {\"userid\":498607,\"name\":\"S9H\",\"editcount\":24056}]\n",
    "}\n",
    "\n",
    "user_edit_counts = user_edit_counts_temp"
   ]
  },
  {
   "cell_type": "code",
   "execution_count": 6,
   "id": "7b1a3fae",
   "metadata": {},
   "outputs": [
    {
     "data": {
      "text/plain": [
       "[{'username': 'Ahn-nath',\n",
       "  'languages': \"['en-4', 'es-5', 'nl-2']\",\n",
       "  'edit_counts': {'en': 150, 'es': 160, 'nl': 15},\n",
       "  'levels': ['4', '5', '2'],\n",
       "  'langs': ['en', 'es', 'nl']},\n",
       " {'username': 'Galahad',\n",
       "  'languages': \"['en-1', 'es-5']\",\n",
       "  'edit_counts': {'en': 4056, 'es': 4058},\n",
       "  'levels': ['1', '5'],\n",
       "  'langs': ['en', 'es']},\n",
       " {'username': 'Adamw',\n",
       "  'languages': \"['de-4', 'en-5', 'es-3']\",\n",
       "  'edit_counts': {'de': 3506, 'en': 156, 'es': 156},\n",
       "  'levels': ['4', '5', '3'],\n",
       "  'langs': ['de', 'en', 'es']},\n",
       " {'username': 'S9H',\n",
       "  'languages': \"['de-5', 'en-4', 'nl-5']\",\n",
       "  'edit_counts': {'de': 24056, 'en': 4056, 'nl': 0},\n",
       "  'levels': ['5', '4', '5'],\n",
       "  'langs': ['de', 'en', 'nl']}]"
      ]
     },
     "execution_count": 6,
     "metadata": {},
     "output_type": "execute_result"
    }
   ],
   "source": [
    "## Process edit counts\n",
    "for lang, lang_list in user_edit_counts.items(): \n",
    "   \n",
    "    for user_group in lang_list:\n",
    "        # find the user list based on the mapped username\n",
    "        name = user_group['name']\n",
    "        index = user_index[name]\n",
    "        user_row = users_lat[index]\n",
    "        \n",
    "        # update the edits counts of the language\n",
    "        user_row['edit_counts'][lang] = user_group['editcount']\n",
    "\n",
    "# out \n",
    "users_lat"
   ]
  },
  {
   "cell_type": "code",
   "execution_count": 7,
   "id": "aa6fca6e",
   "metadata": {},
   "outputs": [
    {
     "data": {
      "text/plain": [
       "['Ahn-nath',\n",
       " 'Ahn-nath',\n",
       " 'Ahn-nath',\n",
       " 'Galahad',\n",
       " 'Galahad',\n",
       " 'Adamw',\n",
       " 'Adamw',\n",
       " 'Adamw',\n",
       " 'S9H',\n",
       " 'S9H',\n",
       " 'S9H']"
      ]
     },
     "metadata": {},
     "output_type": "display_data"
    },
    {
     "data": {
      "text/plain": [
       "['en', 'es', 'nl', 'en', 'es', 'de', 'en', 'es', 'de', 'en', 'nl']"
      ]
     },
     "metadata": {},
     "output_type": "display_data"
    },
    {
     "data": {
      "text/plain": [
       "['4', '5', '2', '1', '5', '4', '5', '3', '5', '4', '5']"
      ]
     },
     "metadata": {},
     "output_type": "display_data"
    },
    {
     "data": {
      "text/plain": [
       "[150, 160, 15, 4056, 4058, 3506, 156, 156, 24056, 4056, 0]"
      ]
     },
     "metadata": {},
     "output_type": "display_data"
    }
   ],
   "source": [
    "## Create dataframe\n",
    "\n",
    "# create series for each category and extend them with each objectb\n",
    "user_list = []\n",
    "langs = []\n",
    "levels = []\n",
    "edit_counts = []\n",
    " \n",
    "\n",
    "for group_user in users_lat:\n",
    "    # extend each list with each user's items\n",
    "    general_len = len(group_user[\"langs\"])\n",
    "    user_list.extend([group_user['username']] * general_len)\n",
    "    langs.extend(group_user['langs'])\n",
    "    levels.extend(group_user['levels'])\n",
    "    edit_counts.extend(group_user['edit_counts'].values())\n",
    "    \n",
    "# out\n",
    "display(user_list)\n",
    "display(langs)\n",
    "display(levels)\n",
    "display(edit_counts)"
   ]
  },
  {
   "cell_type": "code",
   "execution_count": 8,
   "id": "c6e41f70",
   "metadata": {},
   "outputs": [
    {
     "data": {
      "text/html": [
       "<div>\n",
       "<style scoped>\n",
       "    .dataframe tbody tr th:only-of-type {\n",
       "        vertical-align: middle;\n",
       "    }\n",
       "\n",
       "    .dataframe tbody tr th {\n",
       "        vertical-align: top;\n",
       "    }\n",
       "\n",
       "    .dataframe thead th {\n",
       "        text-align: right;\n",
       "    }\n",
       "</style>\n",
       "<table border=\"1\" class=\"dataframe\">\n",
       "  <thead>\n",
       "    <tr style=\"text-align: right;\">\n",
       "      <th></th>\n",
       "      <th>username</th>\n",
       "      <th>language</th>\n",
       "      <th>level</th>\n",
       "      <th>edit_count</th>\n",
       "      <th>total_edit_count</th>\n",
       "    </tr>\n",
       "  </thead>\n",
       "  <tbody>\n",
       "    <tr>\n",
       "      <th>0</th>\n",
       "      <td>Ahn-nath</td>\n",
       "      <td>en</td>\n",
       "      <td>4</td>\n",
       "      <td>150</td>\n",
       "      <td>325</td>\n",
       "    </tr>\n",
       "    <tr>\n",
       "      <th>1</th>\n",
       "      <td>Ahn-nath</td>\n",
       "      <td>es</td>\n",
       "      <td>5</td>\n",
       "      <td>160</td>\n",
       "      <td>325</td>\n",
       "    </tr>\n",
       "    <tr>\n",
       "      <th>2</th>\n",
       "      <td>Ahn-nath</td>\n",
       "      <td>nl</td>\n",
       "      <td>2</td>\n",
       "      <td>15</td>\n",
       "      <td>325</td>\n",
       "    </tr>\n",
       "    <tr>\n",
       "      <th>3</th>\n",
       "      <td>Galahad</td>\n",
       "      <td>en</td>\n",
       "      <td>1</td>\n",
       "      <td>4056</td>\n",
       "      <td>8114</td>\n",
       "    </tr>\n",
       "    <tr>\n",
       "      <th>4</th>\n",
       "      <td>Galahad</td>\n",
       "      <td>es</td>\n",
       "      <td>5</td>\n",
       "      <td>4058</td>\n",
       "      <td>8114</td>\n",
       "    </tr>\n",
       "    <tr>\n",
       "      <th>5</th>\n",
       "      <td>Adamw</td>\n",
       "      <td>de</td>\n",
       "      <td>4</td>\n",
       "      <td>3506</td>\n",
       "      <td>3818</td>\n",
       "    </tr>\n",
       "    <tr>\n",
       "      <th>6</th>\n",
       "      <td>Adamw</td>\n",
       "      <td>en</td>\n",
       "      <td>5</td>\n",
       "      <td>156</td>\n",
       "      <td>3818</td>\n",
       "    </tr>\n",
       "    <tr>\n",
       "      <th>7</th>\n",
       "      <td>Adamw</td>\n",
       "      <td>es</td>\n",
       "      <td>3</td>\n",
       "      <td>156</td>\n",
       "      <td>3818</td>\n",
       "    </tr>\n",
       "    <tr>\n",
       "      <th>8</th>\n",
       "      <td>S9H</td>\n",
       "      <td>de</td>\n",
       "      <td>5</td>\n",
       "      <td>24056</td>\n",
       "      <td>28112</td>\n",
       "    </tr>\n",
       "    <tr>\n",
       "      <th>9</th>\n",
       "      <td>S9H</td>\n",
       "      <td>en</td>\n",
       "      <td>4</td>\n",
       "      <td>4056</td>\n",
       "      <td>28112</td>\n",
       "    </tr>\n",
       "    <tr>\n",
       "      <th>10</th>\n",
       "      <td>S9H</td>\n",
       "      <td>nl</td>\n",
       "      <td>5</td>\n",
       "      <td>0</td>\n",
       "      <td>28112</td>\n",
       "    </tr>\n",
       "  </tbody>\n",
       "</table>\n",
       "</div>"
      ],
      "text/plain": [
       "    username language  level  edit_count  total_edit_count\n",
       "0   Ahn-nath       en      4         150               325\n",
       "1   Ahn-nath       es      5         160               325\n",
       "2   Ahn-nath       nl      2          15               325\n",
       "3    Galahad       en      1        4056              8114\n",
       "4    Galahad       es      5        4058              8114\n",
       "5      Adamw       de      4        3506              3818\n",
       "6      Adamw       en      5         156              3818\n",
       "7      Adamw       es      3         156              3818\n",
       "8        S9H       de      5       24056             28112\n",
       "9        S9H       en      4        4056             28112\n",
       "10       S9H       nl      5           0             28112"
      ]
     },
     "execution_count": 8,
     "metadata": {},
     "output_type": "execute_result"
    }
   ],
   "source": [
    "## Connect everything\n",
    "  \n",
    "# dictionary of lists \n",
    "dicti = {'username': user_list,'language': langs, 'level': levels,'edit_count':edit_counts} \n",
    "    \n",
    "df_users = pd.DataFrame(dicti)\n",
    "df_users['level'] = pd.to_numeric(df_users['level'])\n",
    "df_users['total_edit_count'] = df_users.groupby('username')['edit_count'].transform('sum')\n",
    "\n",
    "    \n",
    "df_users"
   ]
  },
  {
   "cell_type": "markdown",
   "id": "de5240e4",
   "metadata": {},
   "source": [
    "## Data analysis\n",
    "\n",
    "### Questions we want to solve:\n",
    "1. Do users contribute the most to the Wikipedia editions in languages they claim to be native in?\n",
    "2. Do users contribute the most to the Wikipedia editions in languages they have a \"sufficient\" proficiency in? (3-4 levels)\n",
    "3. What other questions can be asked and answered with this data?"
   ]
  },
  {
   "cell_type": "code",
   "execution_count": 9,
   "id": "9c41a567",
   "metadata": {},
   "outputs": [],
   "source": [
    "import matplotlib.pyplot as plt\n",
    "import numpy as np"
   ]
  },
  {
   "cell_type": "code",
   "execution_count": 10,
   "id": "6a400e70",
   "metadata": {
    "scrolled": true
   },
   "outputs": [
    {
     "data": {
      "text/plain": [
       "username\n",
       "Adamw        3818\n",
       "Ahn-nath      325\n",
       "Galahad      8114\n",
       "S9H         28112\n",
       "Name: edit_count, dtype: int64"
      ]
     },
     "execution_count": 10,
     "metadata": {},
     "output_type": "execute_result"
    }
   ],
   "source": [
    "df_users.groupby('username')['edit_count'].sum()"
   ]
  },
  {
   "cell_type": "code",
   "execution_count": 11,
   "id": "89716ae2",
   "metadata": {},
   "outputs": [
    {
     "name": "stdout",
     "output_type": "stream",
     "text": [
      "\n",
      "Displaying table showing relationship between user language level and the edit count percentage by native level\n"
     ]
    },
    {
     "data": {
      "text/html": [
       "<div>\n",
       "<style scoped>\n",
       "    .dataframe tbody tr th:only-of-type {\n",
       "        vertical-align: middle;\n",
       "    }\n",
       "\n",
       "    .dataframe tbody tr th {\n",
       "        vertical-align: top;\n",
       "    }\n",
       "\n",
       "    .dataframe thead th {\n",
       "        text-align: right;\n",
       "    }\n",
       "</style>\n",
       "<table border=\"1\" class=\"dataframe\">\n",
       "  <thead>\n",
       "    <tr style=\"text-align: right;\">\n",
       "      <th></th>\n",
       "      <th>username</th>\n",
       "      <th>language</th>\n",
       "      <th>level</th>\n",
       "      <th>edit_count</th>\n",
       "      <th>total_edit_count</th>\n",
       "      <th>edit count percentage</th>\n",
       "    </tr>\n",
       "  </thead>\n",
       "  <tbody>\n",
       "    <tr>\n",
       "      <th>1</th>\n",
       "      <td>Ahn-nath</td>\n",
       "      <td>es</td>\n",
       "      <td>5</td>\n",
       "      <td>160</td>\n",
       "      <td>325</td>\n",
       "      <td>49.23</td>\n",
       "    </tr>\n",
       "    <tr>\n",
       "      <th>4</th>\n",
       "      <td>Galahad</td>\n",
       "      <td>es</td>\n",
       "      <td>5</td>\n",
       "      <td>4058</td>\n",
       "      <td>8114</td>\n",
       "      <td>50.01</td>\n",
       "    </tr>\n",
       "    <tr>\n",
       "      <th>6</th>\n",
       "      <td>Adamw</td>\n",
       "      <td>en</td>\n",
       "      <td>5</td>\n",
       "      <td>156</td>\n",
       "      <td>3818</td>\n",
       "      <td>4.09</td>\n",
       "    </tr>\n",
       "    <tr>\n",
       "      <th>8</th>\n",
       "      <td>S9H</td>\n",
       "      <td>de</td>\n",
       "      <td>5</td>\n",
       "      <td>24056</td>\n",
       "      <td>28112</td>\n",
       "      <td>85.57</td>\n",
       "    </tr>\n",
       "    <tr>\n",
       "      <th>10</th>\n",
       "      <td>S9H</td>\n",
       "      <td>nl</td>\n",
       "      <td>5</td>\n",
       "      <td>0</td>\n",
       "      <td>28112</td>\n",
       "      <td>0.00</td>\n",
       "    </tr>\n",
       "  </tbody>\n",
       "</table>\n",
       "</div>"
      ],
      "text/plain": [
       "    username language  level  edit_count  total_edit_count  \\\n",
       "1   Ahn-nath       es      5         160               325   \n",
       "4    Galahad       es      5        4058              8114   \n",
       "6      Adamw       en      5         156              3818   \n",
       "8        S9H       de      5       24056             28112   \n",
       "10       S9H       nl      5           0             28112   \n",
       "\n",
       "    edit count percentage  \n",
       "1                   49.23  \n",
       "4                   50.01  \n",
       "6                    4.09  \n",
       "8                   85.57  \n",
       "10                   0.00  "
      ]
     },
     "metadata": {},
     "output_type": "display_data"
    },
    {
     "name": "stdout",
     "output_type": "stream",
     "text": [
      "\n",
      "Displaying table showing relationship between user language level and the edit count percentage by advanced level\n"
     ]
    },
    {
     "data": {
      "text/html": [
       "<div>\n",
       "<style scoped>\n",
       "    .dataframe tbody tr th:only-of-type {\n",
       "        vertical-align: middle;\n",
       "    }\n",
       "\n",
       "    .dataframe tbody tr th {\n",
       "        vertical-align: top;\n",
       "    }\n",
       "\n",
       "    .dataframe thead th {\n",
       "        text-align: right;\n",
       "    }\n",
       "</style>\n",
       "<table border=\"1\" class=\"dataframe\">\n",
       "  <thead>\n",
       "    <tr style=\"text-align: right;\">\n",
       "      <th></th>\n",
       "      <th>username</th>\n",
       "      <th>language</th>\n",
       "      <th>level</th>\n",
       "      <th>edit_count</th>\n",
       "      <th>total_edit_count</th>\n",
       "      <th>edit count percentage</th>\n",
       "    </tr>\n",
       "  </thead>\n",
       "  <tbody>\n",
       "    <tr>\n",
       "      <th>0</th>\n",
       "      <td>Ahn-nath</td>\n",
       "      <td>en</td>\n",
       "      <td>4</td>\n",
       "      <td>150</td>\n",
       "      <td>325</td>\n",
       "      <td>46.15</td>\n",
       "    </tr>\n",
       "    <tr>\n",
       "      <th>5</th>\n",
       "      <td>Adamw</td>\n",
       "      <td>de</td>\n",
       "      <td>4</td>\n",
       "      <td>3506</td>\n",
       "      <td>3818</td>\n",
       "      <td>91.83</td>\n",
       "    </tr>\n",
       "    <tr>\n",
       "      <th>9</th>\n",
       "      <td>S9H</td>\n",
       "      <td>en</td>\n",
       "      <td>4</td>\n",
       "      <td>4056</td>\n",
       "      <td>28112</td>\n",
       "      <td>14.43</td>\n",
       "    </tr>\n",
       "  </tbody>\n",
       "</table>\n",
       "</div>"
      ],
      "text/plain": [
       "   username language  level  edit_count  total_edit_count  \\\n",
       "0  Ahn-nath       en      4         150               325   \n",
       "5     Adamw       de      4        3506              3818   \n",
       "9       S9H       en      4        4056             28112   \n",
       "\n",
       "   edit count percentage  \n",
       "0                  46.15  \n",
       "5                  91.83  \n",
       "9                  14.43  "
      ]
     },
     "metadata": {},
     "output_type": "display_data"
    }
   ],
   "source": [
    "# selecting rows based on condition\n",
    "rslt_df = df_users\n",
    "rslt_df['edit count percentage'] = (rslt_df.loc[:, ('edit_count')] / df_users['total_edit_count'] * 100).round(2)\n",
    "\n",
    "# levels to filter by\n",
    "rslt_df1 = rslt_df[rslt_df['level'] == 5]\n",
    "rslt_df2 = rslt_df[rslt_df['level'] == 4]\n",
    "\n",
    "print(f'\\nDisplaying table showing relationship between user language level and the edit count percentage by native level')\n",
    "display(rslt_df1)\n",
    "\n",
    "print(f'\\nDisplaying table showing relationship between user language level and the edit count percentage by advanced level')\n",
    "display(rslt_df2)"
   ]
  },
  {
   "cell_type": "code",
   "execution_count": 12,
   "id": "e5ab90b7",
   "metadata": {},
   "outputs": [
    {
     "data": {
      "image/png": "[encoded data removed]",
      "text/plain": [
       "<Figure size 432x288 with 1 Axes>"
      ]
     },
     "metadata": {
      "needs_background": "light"
     },
     "output_type": "display_data"
    }
   ],
   "source": [
    "plt.scatter(df_users['edit_count'], df_users['level'], color = '#88c999')\n",
    "\n",
    "plt.title(\"Relationship between the user language level and their edit count in that language\")\n",
    "plt.xlabel(\"edit count\")\n",
    "plt.ylabel(\"language level\")\n",
    "plt.show()"
   ]
  },
  {
   "cell_type": "markdown",
   "id": "f1041bb2",
   "metadata": {},
   "source": [
    "__Observations:__ []"
   ]
  },
  {
   "cell_type": "code",
   "execution_count": 95,
   "id": "cde51d59",
   "metadata": {},
   "outputs": [
    {
     "data": {
      "image/png": "[encoded data removed]",
      "text/plain": [
       "<Figure size 432x288 with 1 Axes>"
      ]
     },
     "metadata": {},
     "output_type": "display_data"
    }
   ],
   "source": [
    "## Display pie\n",
    "\n",
    "native_high_count_group = df_users.loc[(df_users['level'] == 5) & (df_users['edit count percentage'] > 60.0)]\n",
    "proficient_high_count_group =  df_users.loc[(df_users['level'] == 4) & (df_users['edit count percentage'] > 60.0)]\n",
    "sufficient_high_count_group =  df_users.loc[(df_users['level'] == 3) & (df_users['edit count percentage'] > 60.0)]\n",
    "low_high_count_group =  df_users.loc[(df_users['level'] < 3) & (df_users['edit count percentage'] > 60.0)]\n",
    "\n",
    "# get counts\n",
    "counts_list = [native_high_count_group, proficient_high_count_group, sufficient_high_count_group, low_high_count_group]\n",
    "counts_list_language_edit_number = [len(c) for c in counts_list]\n",
    "\n",
    "# set labels\n",
    "summary_labels = [\"5th level --> mother Wiki\", \n",
    "                  \" 4th level --> mother Wiki\", \n",
    "                  \"3rd level --> mother Wiki\", \n",
    "                  \"under 3rd level --> mother Wiki\"]\n",
    "\n",
    "plt.title(\"Grouping by language proficiency and the percentage represented by edits in these levels\")\n",
    "plt.pie(counts_list_language_edit_number)\n",
    "plt.legend( summary_labels, loc='upper right',)\n",
    "plt.show() \n"
   ]
  },
  {
   "cell_type": "markdown",
   "id": "c9a88f53",
   "metadata": {},
   "source": [
    "__Observations:__ []"
   ]
  },
  {
   "cell_type": "markdown",
   "id": "cedb8cde",
   "metadata": {},
   "source": [
    "#### TODO:\n",
    "#### classify based on absolute values for expert, beginner and medium. Use a bar chart"
   ]
  },
  {
   "cell_type": "code",
   "execution_count": 26,
   "id": "418df8c1",
   "metadata": {
    "scrolled": true
   },
   "outputs": [
    {
     "data": {
      "text/html": [
       "<div>\n",
       "<style scoped>\n",
       "    .dataframe tbody tr th:only-of-type {\n",
       "        vertical-align: middle;\n",
       "    }\n",
       "\n",
       "    .dataframe tbody tr th {\n",
       "        vertical-align: top;\n",
       "    }\n",
       "\n",
       "    .dataframe thead th {\n",
       "        text-align: right;\n",
       "    }\n",
       "</style>\n",
       "<table border=\"1\" class=\"dataframe\">\n",
       "  <thead>\n",
       "    <tr style=\"text-align: right;\">\n",
       "      <th></th>\n",
       "      <th>username</th>\n",
       "      <th>language</th>\n",
       "      <th>level</th>\n",
       "      <th>edit_count</th>\n",
       "      <th>total_edit_count</th>\n",
       "      <th>edit count percentage</th>\n",
       "      <th>category</th>\n",
       "    </tr>\n",
       "  </thead>\n",
       "  <tbody>\n",
       "    <tr>\n",
       "      <th>0</th>\n",
       "      <td>Ahn-nath</td>\n",
       "      <td>en</td>\n",
       "      <td>4</td>\n",
       "      <td>150</td>\n",
       "      <td>325</td>\n",
       "      <td>46.15</td>\n",
       "      <td>intermediate</td>\n",
       "    </tr>\n",
       "    <tr>\n",
       "      <th>1</th>\n",
       "      <td>Ahn-nath</td>\n",
       "      <td>es</td>\n",
       "      <td>5</td>\n",
       "      <td>160</td>\n",
       "      <td>325</td>\n",
       "      <td>49.23</td>\n",
       "      <td>intermediate</td>\n",
       "    </tr>\n",
       "    <tr>\n",
       "      <th>2</th>\n",
       "      <td>Ahn-nath</td>\n",
       "      <td>nl</td>\n",
       "      <td>2</td>\n",
       "      <td>15</td>\n",
       "      <td>325</td>\n",
       "      <td>4.62</td>\n",
       "      <td>intermediate</td>\n",
       "    </tr>\n",
       "    <tr>\n",
       "      <th>3</th>\n",
       "      <td>Galahad</td>\n",
       "      <td>en</td>\n",
       "      <td>1</td>\n",
       "      <td>4056</td>\n",
       "      <td>8114</td>\n",
       "      <td>49.99</td>\n",
       "      <td>expert</td>\n",
       "    </tr>\n",
       "    <tr>\n",
       "      <th>4</th>\n",
       "      <td>Galahad</td>\n",
       "      <td>es</td>\n",
       "      <td>5</td>\n",
       "      <td>4058</td>\n",
       "      <td>8114</td>\n",
       "      <td>50.01</td>\n",
       "      <td>expert</td>\n",
       "    </tr>\n",
       "    <tr>\n",
       "      <th>5</th>\n",
       "      <td>Adamw</td>\n",
       "      <td>de</td>\n",
       "      <td>4</td>\n",
       "      <td>3506</td>\n",
       "      <td>3818</td>\n",
       "      <td>91.83</td>\n",
       "      <td>expert</td>\n",
       "    </tr>\n",
       "    <tr>\n",
       "      <th>6</th>\n",
       "      <td>Adamw</td>\n",
       "      <td>en</td>\n",
       "      <td>5</td>\n",
       "      <td>156</td>\n",
       "      <td>3818</td>\n",
       "      <td>4.09</td>\n",
       "      <td>intermediate</td>\n",
       "    </tr>\n",
       "    <tr>\n",
       "      <th>7</th>\n",
       "      <td>Adamw</td>\n",
       "      <td>es</td>\n",
       "      <td>3</td>\n",
       "      <td>156</td>\n",
       "      <td>3818</td>\n",
       "      <td>4.09</td>\n",
       "      <td>intermediate</td>\n",
       "    </tr>\n",
       "    <tr>\n",
       "      <th>8</th>\n",
       "      <td>S9H</td>\n",
       "      <td>de</td>\n",
       "      <td>5</td>\n",
       "      <td>24056</td>\n",
       "      <td>28112</td>\n",
       "      <td>85.57</td>\n",
       "      <td>expert</td>\n",
       "    </tr>\n",
       "    <tr>\n",
       "      <th>9</th>\n",
       "      <td>S9H</td>\n",
       "      <td>en</td>\n",
       "      <td>4</td>\n",
       "      <td>4056</td>\n",
       "      <td>28112</td>\n",
       "      <td>14.43</td>\n",
       "      <td>expert</td>\n",
       "    </tr>\n",
       "    <tr>\n",
       "      <th>10</th>\n",
       "      <td>S9H</td>\n",
       "      <td>nl</td>\n",
       "      <td>5</td>\n",
       "      <td>0</td>\n",
       "      <td>28112</td>\n",
       "      <td>0.00</td>\n",
       "      <td>beginner</td>\n",
       "    </tr>\n",
       "  </tbody>\n",
       "</table>\n",
       "</div>"
      ],
      "text/plain": [
       "    username language  level  edit_count  total_edit_count  \\\n",
       "0   Ahn-nath       en      4         150               325   \n",
       "1   Ahn-nath       es      5         160               325   \n",
       "2   Ahn-nath       nl      2          15               325   \n",
       "3    Galahad       en      1        4056              8114   \n",
       "4    Galahad       es      5        4058              8114   \n",
       "5      Adamw       de      4        3506              3818   \n",
       "6      Adamw       en      5         156              3818   \n",
       "7      Adamw       es      3         156              3818   \n",
       "8        S9H       de      5       24056             28112   \n",
       "9        S9H       en      4        4056             28112   \n",
       "10       S9H       nl      5           0             28112   \n",
       "\n",
       "    edit count percentage      category  \n",
       "0                   46.15  intermediate  \n",
       "1                   49.23  intermediate  \n",
       "2                    4.62  intermediate  \n",
       "3                   49.99        expert  \n",
       "4                   50.01        expert  \n",
       "5                   91.83        expert  \n",
       "6                    4.09  intermediate  \n",
       "7                    4.09  intermediate  \n",
       "8                   85.57        expert  \n",
       "9                   14.43        expert  \n",
       "10                   0.00      beginner  "
      ]
     },
     "execution_count": 26,
     "metadata": {},
     "output_type": "execute_result"
    }
   ],
   "source": [
    "## Create a new category based on absolute numbers of the edit_count column\n",
    "df_users['category'] = df_users.apply(lambda row: \"beginner\" if (row.edit_count < 1)\n",
    "                                      else \"intermediate\" if (row.edit_count < 1006) \n",
    "                                      else \"expert\", axis = 1)\n",
    "\n",
    "# out\n",
    "df_users"
   ]
  },
  {
   "cell_type": "code",
   "execution_count": 70,
   "id": "5e4ea737",
   "metadata": {},
   "outputs": [
    {
     "data": {
      "text/plain": [
       "Text(0, 0.5, 'language level')"
      ]
     },
     "execution_count": 70,
     "metadata": {},
     "output_type": "execute_result"
    },
    {
     "data": {
      "image/png": "[encoded data removed]",
      "text/plain": [
       "<Figure size 720x360 with 1 Axes>"
      ]
     },
     "metadata": {
      "needs_background": "light"
     },
     "output_type": "display_data"
    }
   ],
   "source": [
    "x = df_users.groupby(['level'], as_index=False)['edit_count'].sum()\n",
    "\n",
    "fig = plt.figure(figsize = (10, 5))\n",
    "plt.bar(x[\"level\"], x[\"edit_count\"])\n",
    "\n",
    "plt.title(\"Total edit count by language proficiency level\")\n",
    "plt.xlabel(\"edit count\")\n",
    "plt.ylabel(\"language level\")"
   ]
  },
  {
   "cell_type": "code",
   "execution_count": 94,
   "id": "a74d9334",
   "metadata": {},
   "outputs": [
    {
     "data": {
      "image/png": "[encoded data removed]",
      "text/plain": [
       "<Figure size 432x288 with 1 Axes>"
      ]
     },
     "metadata": {},
     "output_type": "display_data"
    },
    {
     "data": {
      "image/png": "[encoded data removed]",
      "text/plain": [
       "<Figure size 432x288 with 1 Axes>"
      ]
     },
     "metadata": {},
     "output_type": "display_data"
    },
    {
     "data": {
      "image/png": "[encoded data removed]",
      "text/plain": [
       "<Figure size 432x288 with 1 Axes>"
      ]
     },
     "metadata": {},
     "output_type": "display_data"
    },
    {
     "data": {
      "image/png": "[encoded data removed]",
      "text/plain": [
       "<Figure size 432x288 with 1 Axes>"
      ]
     },
     "metadata": {},
     "output_type": "display_data"
    },
    {
     "data": {
      "image/png": "[encoded data removed]",
      "text/plain": [
       "<Figure size 432x288 with 1 Axes>"
      ]
     },
     "metadata": {},
     "output_type": "display_data"
    }
   ],
   "source": [
    "## Show distribution by specific language level\n",
    "levels = a = df_users['level'].unique()\n",
    "\n",
    "for level in levels:\n",
    "    df = df_users.loc[(df_users['level'] == level)]\n",
    "    data = df['category']\n",
    "    values = data.value_counts().values.tolist()\n",
    "    labels = data.value_counts().index.tolist()\n",
    "\n",
    "    plt.title(f'Editor level distribution by speaker of a level proficiency equal to {level}')\n",
    "    plt.pie(values, labels=labels, autopct='%.0f%%')\n",
    "    plt.show()"
   ]
  },
  {
   "cell_type": "code",
   "execution_count": null,
   "id": "a046870a",
   "metadata": {},
   "outputs": [],
   "source": []
  }
 ],
 "metadata": {
  "kernelspec": {
   "display_name": "Python 3 (ipykernel)",
   "language": "python",
   "name": "python3"
  },
  "language_info": {
   "codemirror_mode": {
    "name": "ipython",
    "version": 3
   },
   "file_extension": ".py",
   "mimetype": "text/x-python",
   "name": "python",
   "nbconvert_exporter": "python",
   "pygments_lexer": "ipython3",
   "version": "3.9.7"
  }
 },
 "nbformat": 4,
 "nbformat_minor": 5
}
