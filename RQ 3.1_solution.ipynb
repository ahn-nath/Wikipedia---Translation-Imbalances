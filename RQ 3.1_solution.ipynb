{
 "cells": [
  {
   "cell_type": "markdown",
   "id": "d11a8e67-2c25-4c92-998f-7ad0c7d4f7e2",
   "metadata": {},
   "source": [
    "## Prepare"
   ]
  },
  {
   "cell_type": "code",
   "execution_count": 49,
   "id": "3501aa70-9ab1-46ef-85ad-f29407fe9ef1",
   "metadata": {},
   "outputs": [],
   "source": [
    "#Import PyMySQL library\n",
    "import pymysql"
   ]
  },
  {
   "cell_type": "code",
   "execution_count": 50,
   "id": "d42901f5-4978-4dbe-8eca-33e1083b2554",
   "metadata": {},
   "outputs": [],
   "source": [
    "def make_connection(wiki, replica_type=\"analytics\"):\n",
    "    \"\"\"Connects to a host and database of the same name.\n",
    "    \n",
    "    `replica_type` can be either \"analytics\" (default), or \"web\".\"\"\"\n",
    "    assert replica_type == \"web\" or replica_type == \"analytics\"\n",
    "    return pymysql.connect(\n",
    "        host=f\"{wiki}.{replica_type}.db.svc.wikimedia.cloud\",\n",
    "        read_default_file=\".my.cnf\",\n",
    "        database=f\"{wiki}_p\",\n",
    "        charset='utf8'\n",
    "    )"
   ]
  },
  {
   "cell_type": "code",
   "execution_count": 51,
   "id": "b35219e8-4d58-4cc1-bba6-fc1283a680ba",
   "metadata": {},
   "outputs": [],
   "source": [
    "def query(conn, query):\n",
    "    \"\"\"Execute a SQL query against the connection, and return **all** the results.\"\"\"\n",
    "    with conn.cursor() as cur:\n",
    "        cur.execute(query)\n",
    "        data = cur.fetchall()\n",
    "        return data"
   ]
  },
  {
   "cell_type": "code",
   "execution_count": 52,
   "id": "224feee2-3053-44c6-b1a1-67929f660408",
   "metadata": {},
   "outputs": [],
   "source": [
    "eswiki_conn = make_connection(\"eswiki\")\n"
   ]
  },
  {
   "cell_type": "code",
   "execution_count": 54,
   "id": "b6f7b767-6f07-40a2-9cb0-de6cef847184",
   "metadata": {},
   "outputs": [
    {
     "name": "stdout",
     "output_type": "stream",
     "text": [
      "(b'!',)\n",
      "(b'!!',)\n",
      "(b'!!!',)\n",
      "(b'!!!_(\\xc3\\xa1lbum)',)\n",
      "(b'!Kung',)\n",
      "(b'!Kung_Ekoka',)\n",
      "(b'!Queridos_Camaradas!',)\n",
      "(b'!Revoluci\\xc3\\xb3n_del_arte_de_mujeres',)\n",
      "(b'!Women_Art_Revolution',)\n",
      "(b'!_(desambiguaci\\xc3\\xb3n)',)\n"
     ]
    }
   ],
   "source": [
    "results = query(\n",
    "    eswiki_conn,\n",
    "    \"SELECT page_title FROM page LIMIT 10\")\n",
    "\n",
    "for result in results:\n",
    "    print(result)\n",
    "    \n",
    "eswiki_conn.close()"
   ]
  },
  {
   "cell_type": "markdown",
   "id": "40c2e7a6-df88-45a7-b265-309191dcb19c",
   "metadata": {},
   "source": [
    "## Implementation"
   ]
  },
  {
   "cell_type": "markdown",
   "id": "b1ac0d69-250c-4e9d-af15-008bae179f9f",
   "metadata": {},
   "source": [
    "### Get Wikipedia languages and their Wikipedia codes"
   ]
  },
  {
   "cell_type": "code",
   "execution_count": 15,
   "id": "6ddf464b-3f30-44d6-8135-d0a8161943f1",
   "metadata": {},
   "outputs": [
    {
     "name": "stdout",
     "output_type": "stream",
     "text": [
      "Requirement already satisfied: selenium in c:\\users\\natha\\anaconda3\\lib\\site-packages (4.11.2)\n",
      "Requirement already satisfied: urllib3[socks]<3,>=1.26 in c:\\users\\natha\\anaconda3\\lib\\site-packages (from selenium) (1.26.14)\n",
      "Requirement already satisfied: trio~=0.17 in c:\\users\\natha\\anaconda3\\lib\\site-packages (from selenium) (0.22.2)\n",
      "Requirement already satisfied: certifi>=2021.10.8 in c:\\users\\natha\\anaconda3\\lib\\site-packages (from selenium) (2023.5.7)\n",
      "Requirement already satisfied: trio-websocket~=0.9 in c:\\users\\natha\\anaconda3\\lib\\site-packages (from selenium) (0.10.3)\n",
      "Requirement already satisfied: exceptiongroup>=1.0.0rc9 in c:\\users\\natha\\anaconda3\\lib\\site-packages (from trio~=0.17->selenium) (1.1.3)\n",
      "Requirement already satisfied: cffi>=1.14 in c:\\users\\natha\\anaconda3\\lib\\site-packages (from trio~=0.17->selenium) (1.15.1)\n",
      "Requirement already satisfied: outcome in c:\\users\\natha\\anaconda3\\lib\\site-packages (from trio~=0.17->selenium) (1.2.0)\n",
      "Requirement already satisfied: idna in c:\\users\\natha\\anaconda3\\lib\\site-packages (from trio~=0.17->selenium) (3.4)\n",
      "Requirement already satisfied: sortedcontainers in c:\\users\\natha\\anaconda3\\lib\\site-packages (from trio~=0.17->selenium) (2.4.0)\n",
      "Requirement already satisfied: sniffio in c:\\users\\natha\\anaconda3\\lib\\site-packages (from trio~=0.17->selenium) (1.2.0)\n",
      "Requirement already satisfied: attrs>=20.1.0 in c:\\users\\natha\\anaconda3\\lib\\site-packages (from trio~=0.17->selenium) (22.1.0)\n",
      "Requirement already satisfied: wsproto>=0.14 in c:\\users\\natha\\anaconda3\\lib\\site-packages (from trio-websocket~=0.9->selenium) (1.2.0)\n",
      "Requirement already satisfied: PySocks!=1.5.7,<2.0,>=1.5.6 in c:\\users\\natha\\anaconda3\\lib\\site-packages (from urllib3[socks]<3,>=1.26->selenium) (1.7.1)\n",
      "Requirement already satisfied: pycparser in c:\\users\\natha\\anaconda3\\lib\\site-packages (from cffi>=1.14->trio~=0.17->selenium) (2.21)\n",
      "Requirement already satisfied: h11<1,>=0.9.0 in c:\\users\\natha\\anaconda3\\lib\\site-packages (from wsproto>=0.14->trio-websocket~=0.9->selenium) (0.14.0)\n"
     ]
    }
   ],
   "source": [
    "import sys\n",
    "import json\n",
    "!{sys.executable} -m pip install selenium"
   ]
  },
  {
   "cell_type": "code",
   "execution_count": 3,
   "id": "d28e53d6-717f-430e-a5c0-6c4e7d4a639e",
   "metadata": {},
   "outputs": [],
   "source": [
    "from time import sleep\n",
    "from selenium import webdriver\n",
    "from selenium.webdriver.chrome.options import Options\n",
    "from selenium.webdriver.common.by import By\n",
    "from selenium.webdriver.support.ui import WebDriverWait\n",
    "from selenium.webdriver.support import expected_conditions as EC\n",
    "\n",
    "# Chrome options\n",
    "chrome_options = Options()\n",
    "# run the Selenium tests using a headless browser. This prevents the browser from opening new tab to show the process\n",
    "#chrome_options.add_argument(\"--headless\")\n",
    "# disable the Dev SHM mode\n",
    "chrome_options.add_argument(\"--disable-dev-shm-usage\")\n",
    "# disable the Sandbox mode.\n",
    "chrome_options.add_argument('--no-sandbox')\n",
    "# add language\n",
    "chrome_options.add_argument('--lang=en-US')\n",
    "# this is tested on Firefox or you can use \"webdriver.Chrome()\"\n",
    "wb = webdriver.Chrome(options=chrome_options)\n"
   ]
  },
  {
   "cell_type": "code",
   "execution_count": 5,
   "id": "116ddcc8",
   "metadata": {},
   "outputs": [],
   "source": [
    "# Get page #1 and obtain the official languages and the codes\n",
    "wb.get(\"https://en.wikipedia.org/wiki/List_of_Wikipedias\")\n",
    "# assert \"List of Wikipedias - Wikipedia\" in wb.title\n",
    "title = wb.title\n",
    "assert title == \"List of Wikipedias - Wikipedia\"\n",
    "\n",
    "# obtain list of languages with a Wikipedia edition and their Wikipedia codes\n",
    "languages = wb.find_elements(By.XPATH, \"//table[contains(@class,'wikitable plainrowheaders sortable static-row-numbers static-row-header-hash jquery-tablesorter')]//tr/th[contains(@scope, 'row')]\") #[contains(@scope, 'row')]\n",
    "wp_codes = wb.find_elements(By.XPATH, \"//table[contains(@class,'wikitable plainrowheaders sortable static-row-numbers static-row-header-hash jquery-tablesorter')]//tr/td[2]\") #[contains(@scope, 'row')]\n",
    "\n",
    "# get text from objects\n",
    "wp_codes = [code.text for code in wp_codes]\n",
    "languages = [lang.text for lang in languages]"
   ]
  },
  {
   "cell_type": "code",
   "execution_count": 16,
   "id": "574da892",
   "metadata": {},
   "outputs": [],
   "source": [
    "# construct dictionary\n",
    "\n",
    "wikis_cx_info = dict.fromkeys(wp_codes, {})\n",
    "\n",
    "for i in range(len(languages)):\n",
    "    wp_code = wp_codes[i]\n",
    "    lang = languages[i]\n",
    "    wikis_cx_info[wp_code] = {\"language\": lang, \"wp_code\": wp_code}\n",
    "    \n",
    "wikis_cx_info\n",
    "\n",
    "\n",
    "# save to json\n",
    "with open(\"wikipedia_language_codes.json\", \"w\") as outfile:\n",
    "    json.dump(wikis_cx_info, outfile)"
   ]
  },
  {
   "cell_type": "code",
   "execution_count": 13,
   "id": "995946dd",
   "metadata": {},
   "outputs": [
    {
     "name": "stdout",
     "output_type": "stream",
     "text": [
      "Timed out waiting for page to load\n"
     ]
    }
   ],
   "source": [
    "# Get page #2 and obtain the translation counts\n",
    "from selenium.common.exceptions import TimeoutException\n",
    "\n",
    "# NOTE: even though we are going to the specific page of the Enhlish Wikipedia, we will get \n",
    "# the data that is available in all of them \n",
    "wb.get(\"https://en.wikipedia.org/wiki/Special:ContentTranslationStats\")\n",
    "# assert \"Content Translation statistics - Wikipedia\" in wb.title\n",
    "title = wb.title\n",
    "assert title == \"Content Translation statistics - Wikipedia\"\n",
    "\n",
    "\n",
    "timeout = 160\n",
    "try:\n",
    "    # wait until the element is present\n",
    "    element_present = EC.presence_of_element_located((By.ID, \"cx-stats-publishedtab-0\"))\n",
    "    WebDriverWait(wb, timeout).until(element_present)\n",
    "    \n",
    "    # //div[@id, 'cx-stats-publishedtab-0']//span[@class, 'cx-stats-chart__row-label-container']\n",
    "    translations_to_data = wb.find_elements(By.XPATH, \"//div[@id='cx-stats-publishedtab-0']\") \n",
    "    translations_from_data = wb.find_elements(By.XPATH, \"//div[@id='cx-stats-publishedtab-1']\")\n",
    "    \n",
    "except TimeoutException:\n",
    "    print(\"Timed out waiting for page to load\")\n",
    "\n",
    "\n"
   ]
  },
  {
   "cell_type": "code",
   "execution_count": 107,
   "id": "7dbe6ee6",
   "metadata": {},
   "outputs": [],
   "source": [
    "wb.close()"
   ]
  },
  {
   "cell_type": "markdown",
   "id": "78458c16",
   "metadata": {},
   "source": [
    "### Get the MT avalability details by language"
   ]
  },
  {
   "cell_type": "code",
   "execution_count": null,
   "id": "4b2e52c9",
   "metadata": {},
   "outputs": [],
   "source": [
    "# Here we would fetch the results obtained by other library/tool that I created"
   ]
  }
 ],
 "metadata": {
  "kernelspec": {
   "display_name": "Python 3 (ipykernel)",
   "language": "python",
   "name": "python3"
  },
  "language_info": {
   "codemirror_mode": {
    "name": "ipython",
    "version": 3
   },
   "file_extension": ".py",
   "mimetype": "text/x-python",
   "name": "python",
   "nbconvert_exporter": "python",
   "pygments_lexer": "ipython3",
   "version": "3.10.9"
  }
 },
 "nbformat": 4,
 "nbformat_minor": 5
}
