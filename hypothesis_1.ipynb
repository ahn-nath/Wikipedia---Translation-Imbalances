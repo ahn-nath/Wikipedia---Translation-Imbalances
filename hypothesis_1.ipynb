{
 "cells": [
  {
   "cell_type": "markdown",
   "id": "c783945b",
   "metadata": {},
   "source": [
    "# Wikimedia Research - Translation Imbalances: Testing hypothesis #1"
   ]
  },
  {
   "cell_type": "code",
   "execution_count": 3,
   "id": "c6df7a07",
   "metadata": {},
   "outputs": [
    {
     "data": {
      "text/plain": [
       "30"
      ]
     },
     "execution_count": 3,
     "metadata": {},
     "output_type": "execute_result"
    }
   ],
   "source": [
    "main_categories = ['Research', 'Library_science', 'Culture', 'The_arts', 'Geography', \n",
    "                   'Places', 'Health', 'Self-care', 'Health_care_occupations', 'History',\n",
    "                   'Events', 'Formal_sciences','Mathematics', 'Logic', 'Mathematical_sciences',\n",
    "                  'Science', 'Natural_sciences', 'Nature', 'People', 'Personal_life',\n",
    "                  'Self', 'Surnames', 'Philosophy', 'Thought', 'Religion', 'Belief', \n",
    "                  'Society', 'Social_sciences', 'Technology', 'Applied_sciences']\n",
    "\n",
    "len(main_categories)"
   ]
  },
  {
   "cell_type": "code",
   "execution_count": null,
   "id": "111af54b",
   "metadata": {},
   "outputs": [],
   "source": []
  }
 ],
 "metadata": {
  "kernelspec": {
   "display_name": "Python 3 (ipykernel)",
   "language": "python",
   "name": "python3"
  },
  "language_info": {
   "codemirror_mode": {
    "name": "ipython",
    "version": 3
   },
   "file_extension": ".py",
   "mimetype": "text/x-python",
   "name": "python",
   "nbconvert_exporter": "python",
   "pygments_lexer": "ipython3",
   "version": "3.9.7"
  }
 },
 "nbformat": 4,
 "nbformat_minor": 5
}
